{
 "cells": [
  {
   "cell_type": "markdown",
   "id": "b6740d33",
   "metadata": {},
   "source": [
    "# Import library"
   ]
  },
  {
   "cell_type": "code",
   "execution_count": 1,
   "id": "6fe71246",
   "metadata": {},
   "outputs": [],
   "source": [
    "import random\n",
    "import math\n",
    "import copy\n",
    "from collections import defaultdict\n",
    "import pandas as pd\n",
    "import numpy as np\n",
    "from tqdm import trange\n",
    "import matplotlib.pyplot as plt"
   ]
  },
  {
   "cell_type": "markdown",
   "id": "a65118b6",
   "metadata": {},
   "source": [
    "# Dummy data: mata kuliah"
   ]
  },
  {
   "cell_type": "code",
   "execution_count": 2,
   "id": "d7e71877",
   "metadata": {},
   "outputs": [],
   "source": [
    "# Kolom: code, name, program, priority (1=highest), room_type (\"lab\" atau \"class\"), lecturer_id, duration (slots)\n",
    "courses = pd.DataFrame([\n",
    "    (\"CIE61101\",\"Perkembangan Peserta Didik\",\"Pendidikan Teknologi Informasi\",1,'class',39,2),\n",
    "    (\"CIE61102\",\"Perkembangan Peserta Didik\",\"Pendidikan Teknologi Informasi\",2,'class',59,1),\n",
    "    (\"CIE61102\",\"Filsafat Pendidikan dan Sains\",\"Pendidikan Teknologi Informasi\",1,'class',103,1),\n",
    "    (\"CIE61103\",\"Filsafat Pendidikan dan Sains\",\"Pendidikan Teknologi Informasi\",2,'class',103,1),\n",
    "    (\"CIE61103\",\"Komunikasi dan Teknologi Pendidikan\",\"Pendidikan Teknologi Informasi\",1,'class',103,2),\n",
    "    (\"CIE61104\",\"Komunikasi dan Teknologi Pendidikan\",\"Pendidikan Teknologi Informasi\",1,'class',39,1),\n",
    "    (\"CIE61108\",\"Penilaian Hasil Belajar\",\"Pendidikan Teknologi Informasi\",1,'class',100,1),\n",
    "    (\"CIE61109\",\"Pembelajaran Mikro\",\"Pendidikan Teknologi Informasi\",1,'class',39,2),\n",
    "    (\"CIE61110\",\"Pembelajaran Mikro\",\"Pendidikan Teknologi Informasi\",1,'class',100,1),\n",
    "    (\"CIE61110\",\"Perancangan Pembelajaran\",\"Pendidikan Teknologi Informasi\",1,'class',39,1),\n",
    "    (\"CIE61111\",\"Pengenalan Lapangan Persekolahan 1\",\"Pendidikan Teknologi Informasi\",1,'class',103,2),\n",
    "    (\"CIE61112\",\"Praktikum Jaringan\",\"Pendidikan Teknologi Informasi\",1,'lab',41,3),\n",
    "    (\"CIE61113\",\"Praktikum Sistem Operasi\",\"Pendidikan Teknologi Informasi\",2,'lab',41,2),\n",
    "])\n",
    "\n",
    "\n",
    "courses.index.name = 'course_id'"
   ]
  },
  {
   "cell_type": "markdown",
   "id": "a9ed3401",
   "metadata": {},
   "source": [
    "# Dummy data: Ruangan"
   ]
  },
  {
   "cell_type": "code",
   "execution_count": 3,
   "id": "eb8b4847",
   "metadata": {},
   "outputs": [],
   "source": [
    "rooms = pd.DataFrame([\n",
    "    (\"F11.1\",\"Gedung F FILKOM\",11,\"R. Kuliah FILKOM\",\"class\"),\n",
    "    (\"F11.3\",\"Gedung F FILKOM\",11,\"R. Kuliah FILKOM\",\"class\"),\n",
    "    (\"F2.1\",\"Gedung F FILKOM\",2,\"R. Kuliah (Smart Class)\",\"class\"),\n",
    "    (\"F2.2\",\"Gedung F FILKOM\",2,\"R. Kuliah (Smart Class)\",\"class\"),\n",
    "    (\"LABJAR1\",\"Gedung Lab A\",1,\"Laboratorium Jaringan\",\"lab\"),\n",
    "    (\"LABJAR2\",\"Gedung Lab B\",2,\"Laboratorium Jaringan\",\"lab\"),\n",
    "    (\"LABOS1\",\"Gedung Lab C\",3,\"Laboratorium OS\",\"lab\"),\n",
    "], columns=['kode_ruang','lokasi','lantai','keterangan','room_type'])\n",
    "rooms.index = rooms['kode_ruang']"
   ]
  },
  {
   "cell_type": "markdown",
   "id": "d8597f27",
   "metadata": {},
   "source": [
    "# Timeslot generation"
   ]
  },
  {
   "cell_type": "code",
   "execution_count": 4,
   "id": "b1777b49",
   "metadata": {},
   "outputs": [],
   "source": [
    "# We'll discretize into hourly slots starting at 7 to 17 (inclusive start), each slot is 1 hour.\n",
    "# Hard constraints define break windows which we'll remove as unavailable slots.\n",
    "DAYS = ['Mon','Tue','Wed','Thu','Fri']\n",
    "HOURS = list(range(7,18)) # 7..17\n",
    "\n",
    "\n",
    "# Remove break slots (approximation):\n",
    "# Mon-Thu break 12:10-12:30 -> remove hour 12\n",
    "# Fri break 11.15-12.30 -> remove hours 11 and 12\n",
    "available_slots = []\n",
    "for day in DAYS:\n",
    "    for h in HOURS:\n",
    "        if day in ['Mon','Tue','Wed','Thu'] and h==12:\n",
    "            continue\n",
    "        if day=='Fri' and h in (11,12):\n",
    "            continue\n",
    "        available_slots.append((day,h))\n",
    "\n",
    "\n",
    "SLOT_INDEX = {s:i for i,s in enumerate(available_slots)}\n",
    "\n",
    "\n",
    "# Helper: enumerate contiguous slots for course duration"
   ]
  },
  {
   "cell_type": "markdown",
   "id": "3e56fd36",
   "metadata": {},
   "source": [
    "# Lecturer time preferences (soft constraint)"
   ]
  },
  {
   "cell_type": "code",
   "execution_count": 5,
   "id": "74370306",
   "metadata": {},
   "outputs": [],
   "source": [
    "# small example: lecturer 39 prefers morning (7-11) except friday\n",
    "lecturer_prefs = {\n",
    "    39: [(d,h) for d in DAYS for h in range(7,11)],\n",
    "    103: [(d,h) for d in DAYS for h in range(13,17)],\n",
    "}"
   ]
  },
  {
   "cell_type": "markdown",
   "id": "0e2530e8",
   "metadata": {},
   "source": [
    "# Fitness & constraint evaluation"
   ]
  },
  {
   "cell_type": "code",
   "execution_count": 6,
   "id": "20c09574",
   "metadata": {},
   "outputs": [],
   "source": [
    "BIG_PENALTY = 10_000\n",
    "\n",
    "def check_hard_constraints(schedule):\n",
    "    # schedule: dict course_id -> (slot_index, room_code)\n",
    "    penalty = 0\n",
    "    # 1. room double-book\n",
    "    room_usage = defaultdict(list)\n",
    "    for cid,(sidx,room) in schedule.items():\n",
    "        duration = int(courses.loc[cid,6])\n",
    "        for dt in range(duration):\n",
    "            idx = sidx + dt\n",
    "            if idx >= len(available_slots):\n",
    "                penalty += BIG_PENALTY  # out of time range\n",
    "            else:\n",
    "                room_usage[(room,idx)].append(cid)\n",
    "    for k,v in room_usage.items():\n",
    "        if len(v)>1:\n",
    "            penalty += BIG_PENALTY * (len(v)-1)\n",
    "    # 2 & 3: lecturer not in more than one place at same time\n",
    "    lecturer_usage = defaultdict(list)\n",
    "    for cid,(sidx,room) in schedule.items():\n",
    "        lecturer = courses.loc[cid,5]\n",
    "        duration = int(courses.loc[cid,6])\n",
    "        for dt in range(duration):\n",
    "            idx = sidx + dt\n",
    "            lecturer_usage[(lecturer,idx)].append((cid,room))\n",
    "    for k,v in lecturer_usage.items():\n",
    "        if len(v)>1:\n",
    "            penalty += BIG_PENALTY * (len(v)-1)\n",
    "    # 4. Time windows already enforced by available_slots; check slot indices within range done above\n",
    "    # 5. Room type matching\n",
    "    for cid,(sidx,room) in schedule.items():\n",
    "        room_type = rooms.loc[room,'room_type']\n",
    "        required = courses.loc[cid,4]\n",
    "        if room_type != required:\n",
    "            penalty += BIG_PENALTY\n",
    "    return penalty\n",
    "\n",
    "\n",
    "def soft_score(schedule):\n",
    "    # lower is better\n",
    "    score = 0\n",
    "    # 1. priority: if two courses overlap same slot (allowed but soft), we prefer lower priority assigned earlier.\n",
    "    # We'll add priority value for each scheduled slot (so lower priority adds less)\n",
    "    for cid,(sidx,room) in schedule.items():\n",
    "        pr = courses.loc[cid,3]\n",
    "        score += pr\n",
    "    # 2. minimize floor movement for lecturers: if a lecturer teaches in two adjacent slots with large floor diff, penalize\n",
    "    lec_slots = defaultdict(list)\n",
    "    for cid,(sidx,room) in schedule.items():\n",
    "        lec = courses.loc[cid,5]\n",
    "        lec_slots[lec].append((sidx,room))\n",
    "    for lec,assigns in lec_slots.items():\n",
    "        assigns_sorted = sorted(assigns)\n",
    "        for i in range(len(assigns_sorted)-1):\n",
    "            s1,r1 = assigns_sorted[i]\n",
    "            s2,r2 = assigns_sorted[i+1]\n",
    "            slot_time1 = available_slots[s1]\n",
    "            slot_time2 = available_slots[s2]\n",
    "            # if consecutive in time (next slot) and different floors, penalize difference\n",
    "            if s2==s1+1:\n",
    "                f1 = rooms.loc[r1,'lantai']\n",
    "                f2 = rooms.loc[r2,'lantai']\n",
    "                score += abs(f1-f2)\n",
    "    # 3. lecturer preferences\n",
    "    for cid,(sidx,room) in schedule.items():\n",
    "        lec = courses.loc[cid,5]\n",
    "        slot = available_slots[sidx]\n",
    "        if lec in lecturer_prefs and slot not in lecturer_prefs[lec]:\n",
    "            score += 1\n",
    "    return score\n",
    "\n",
    "\n",
    "def fitness(schedule):\n",
    "    # fitness: lower is better\n",
    "    return check_hard_constraints(schedule) + soft_score(schedule)"
   ]
  },
  {
   "cell_type": "markdown",
   "id": "a198001b",
   "metadata": {},
   "source": [
    "# Helper random initialization"
   ]
  },
  {
   "cell_type": "code",
   "execution_count": 7,
   "id": "b4e28f8f",
   "metadata": {},
   "outputs": [],
   "source": [
    "def random_schedule():\n",
    "    sch = {}\n",
    "    for cid in courses.index:\n",
    "        duration = int(courses.loc[cid,6])\n",
    "        # pick starting slot that fits\n",
    "        max_start = len(available_slots)-duration\n",
    "        sidx = random.randint(0,max_start)\n",
    "        # pick a room of matching type\n",
    "        req = courses.loc[cid,4]\n",
    "        candidate_rooms = rooms[rooms['room_type']==req].index.tolist()\n",
    "        room = random.choice(candidate_rooms)\n",
    "        sch[cid] = (sidx, room)\n",
    "    return sch"
   ]
  },
  {
   "cell_type": "markdown",
   "id": "f8ac3822",
   "metadata": {},
   "source": [
    "# Simple Genetic Algorithm (baseline)"
   ]
  },
  {
   "cell_type": "code",
   "execution_count": 8,
   "id": "25951732",
   "metadata": {},
   "outputs": [],
   "source": [
    "def ga_optimize(generations=200,pop_size=50,crossover_prob=0.8,mut_prob=0.2):\n",
    "    # encode as dict per individual\n",
    "    pop = [random_schedule() for _ in range(pop_size)]\n",
    "    pop_scores = [fitness(ind) for ind in pop]\n",
    "    best_idx = int(np.argmin(pop_scores))\n",
    "    best = pop[best_idx]\n",
    "    best_score = pop_scores[best_idx]\n",
    "    for gen in trange(generations, desc='GA'):\n",
    "        new_pop = []\n",
    "        while len(new_pop)<pop_size:\n",
    "            # selection: tournament\n",
    "            i1,i2 = random.sample(range(pop_size),2)\n",
    "            parent1 = pop[i1] if pop_scores[i1]<pop_scores[i2] else pop[i2]\n",
    "            i3,i4 = random.sample(range(pop_size),2)\n",
    "            parent2 = pop[i3] if pop_scores[i3]<pop_scores[i4] else pop[i4]\n",
    "            # crossover\n",
    "            if random.random()<crossover_prob:\n",
    "                # one-point crossover over course ids order\n",
    "                keys = list(courses.index)\n",
    "                cx = random.randint(1,len(keys)-1)\n",
    "                child = {}\n",
    "                for i,k in enumerate(keys):\n",
    "                    child[k] = copy.deepcopy(parent1[k]) if i<cx else copy.deepcopy(parent2[k])\n",
    "            else:\n",
    "                child = copy.deepcopy(parent1)\n",
    "            # mutation: randomly reassign some courses\n",
    "            if random.random()<mut_prob:\n",
    "                m = random.choice(list(courses.index))\n",
    "                duration = int(courses.loc[m,6])\n",
    "                sidx = random.randint(0,len(available_slots)-duration)\n",
    "                candidate_rooms = rooms[rooms['room_type']==courses.loc[m,4]].index.tolist()\n",
    "                room = random.choice(candidate_rooms)\n",
    "                child[m] = (sidx,room)\n",
    "            new_pop.append(child)\n",
    "        pop = new_pop\n",
    "        pop_scores = [fitness(ind) for ind in pop]\n",
    "        cur_best_idx = int(np.argmin(pop_scores))\n",
    "        if pop_scores[cur_best_idx] < best_score:\n",
    "            best_score = pop_scores[cur_best_idx]\n",
    "            best = pop[cur_best_idx]\n",
    "    return best, best_score"
   ]
  },
  {
   "cell_type": "markdown",
   "id": "94237470",
   "metadata": {},
   "source": [
    "# Simulated Annealing"
   ]
  },
  {
   "cell_type": "code",
   "execution_count": 9,
   "id": "1baeab61",
   "metadata": {},
   "outputs": [],
   "source": [
    "def sa_optimize(iterations=5000, start_temp=1000, cooling=0.995):\n",
    "    current = random_schedule()\n",
    "    current_score = fitness(current)\n",
    "    best, best_score = current, current_score\n",
    "    T = start_temp\n",
    "    for i in range(iterations):\n",
    "        # neighbor: change scheduling of one random course\n",
    "        neighbor = copy.deepcopy(current)\n",
    "        m = random.choice(list(courses.index))\n",
    "        duration = int(courses.loc[m,6])\n",
    "        sidx = random.randint(0,len(available_slots)-duration)\n",
    "        candidate_rooms = rooms[rooms['room_type']==courses.loc[m,4]].index.tolist()\n",
    "        room = random.choice(candidate_rooms)\n",
    "        neighbor[m] = (sidx,room)\n",
    "        ns = fitness(neighbor)\n",
    "        d = ns - current_score\n",
    "        if d<0 or random.random() < math.exp(-d/T):\n",
    "            current, current_score = neighbor, ns\n",
    "            if ns < best_score:\n",
    "                best, best_score = neighbor, ns\n",
    "        T *= cooling\n",
    "    return best, best_score"
   ]
  },
  {
   "cell_type": "markdown",
   "id": "499db532",
   "metadata": {},
   "source": [
    "# Particle Swarm Optimization (discrete variant)"
   ]
  },
  {
   "cell_type": "code",
   "execution_count": 10,
   "id": "b20a638d",
   "metadata": {},
   "outputs": [],
   "source": [
    "def ps0_optimize(particles=40, iterations=300):\n",
    "    # position: numerical vector length = 2*Ncourses where each course has slot index and room index\n",
    "    n = len(courses)\n",
    "    room_lists = [rooms[rooms['room_type']==courses.loc[cid,4]].index.tolist() for cid in courses.index]\n",
    "    room_index_maps = [ {r:i for i,r in enumerate(lst)} for lst in room_lists]\n",
    "    dim = n*2\n",
    "    # initialize\n",
    "    pos = []\n",
    "    vel = []\n",
    "    pbest = []\n",
    "    pbest_score = []\n",
    "    for i,cid in enumerate(courses.index):\n",
    "        pass\n",
    "    for p in range(particles):\n",
    "        vec = []\n",
    "        for idx,cid in enumerate(courses.index):\n",
    "            duration = int(courses.loc[cid,6])\n",
    "            sidx = random.randint(0,len(available_slots)-duration)\n",
    "            rlist = room_lists[idx]\n",
    "            ridx = random.randrange(len(rlist))\n",
    "            vec.append(sidx)\n",
    "            vec.append(ridx)\n",
    "        pos.append(np.array(vec,dtype=float))\n",
    "        vel.append(np.zeros_like(pos[-1]))\n",
    "        # decode\n",
    "        sched = decode_particle(pos[-1], room_lists)\n",
    "        sc = fitness(sched)\n",
    "        pbest.append(pos[-1].copy())\n",
    "        pbest_score.append(sc)\n",
    "    gbest_idx = int(np.argmin(pbest_score))\n",
    "    gbest = pbest[gbest_idx].copy()\n",
    "    gbest_score = pbest_score[gbest_idx]\n",
    "    w=0.5;c1=1.5;c2=1.5\n",
    "    for it in trange(iterations, desc='PSO'):\n",
    "        for i in range(particles):\n",
    "            r1=random.random(); r2=random.random()\n",
    "            vel[i] = w*vel[i] + c1*r1*(pbest[i]-pos[i]) + c2*r2*(gbest-pos[i])\n",
    "            pos[i] = pos[i] + vel[i]\n",
    "            # clamp and discretize when decoding\n",
    "            sched = decode_particle(pos[i], room_lists)\n",
    "            sc = fitness(sched)\n",
    "            if sc < pbest_score[i]:\n",
    "                pbest[i] = pos[i].copy(); pbest_score[i]=sc\n",
    "                if sc < gbest_score:\n",
    "                    gbest = pos[i].copy(); gbest_score = sc\n",
    "    return decode_particle(gbest, room_lists), gbest_score\n",
    "\n",
    "\n",
    "def decode_particle(vec, room_lists):\n",
    "    sched = {}\n",
    "    arr = [int(round(x)) for x in vec]\n",
    "    for i,cid in enumerate(courses.index):\n",
    "        sidx = max(0,min(len(available_slots)-int(courses.loc[cid,6]), arr[2*i]))\n",
    "        rlist = room_lists[i]\n",
    "        ridx = arr[2*i+1] % len(rlist)\n",
    "        room = rlist[ridx]\n",
    "        sched[cid] = (sidx, room)\n",
    "    return sched"
   ]
  },
  {
   "cell_type": "markdown",
   "id": "c5554d93",
   "metadata": {},
   "source": [
    "# Ant Colony Optimization (very simplified)"
   ]
  },
  {
   "cell_type": "code",
   "execution_count": 11,
   "id": "2d24a1a3",
   "metadata": {},
   "outputs": [],
   "source": [
    "def aco_optimize(ants=40, iterations=200):\n",
    "    # pheromone for assigning start slot and room per course\n",
    "    n = len(courses)\n",
    "    pher_slot = np.ones((n,len(available_slots)))\n",
    "    pher_room = [np.ones(len(rooms[rooms['room_type']==courses.loc[cid,4]])) for cid in courses.index]\n",
    "    best=None; best_score=1e18\n",
    "    for it in trange(iterations, desc='ACO'):\n",
    "        solutions = []\n",
    "        scores = []\n",
    "        for a in range(ants):\n",
    "            sched = {}\n",
    "            for i,cid in enumerate(courses.index):\n",
    "                duration = int(courses.loc[cid,6])\n",
    "                feasible_slots = list(range(0,len(available_slots)-duration+1))\n",
    "                # probabilistic pick based on pheromone\n",
    "                ps = pher_slot[i,feasible_slots]\n",
    "                probs = ps/ps.sum()\n",
    "                sidx = np.random.choice(feasible_slots,p=probs)\n",
    "                rlist = rooms[rooms['room_type']==courses.loc[cid,4]].index.tolist()\n",
    "                pr = pher_room[i]\n",
    "                probs_r = pr/pr.sum()\n",
    "                ridx = np.random.choice(len(rlist),p=probs_r)\n",
    "                room = rlist[ridx]\n",
    "                sched[cid] = (sidx,room)\n",
    "            sc = fitness(sched)\n",
    "            solutions.append(sched); scores.append(sc)\n",
    "            if sc < best_score:\n",
    "                best, best_score = sched, sc\n",
    "        # update pheromone\n",
    "        pher_slot *= 0.9\n",
    "        for i in range(n):\n",
    "            for a,sched in enumerate(solutions):\n",
    "                sidx,_ = sched[courses.index[i]]\n",
    "                pher_slot[i,sidx] += 1.0/(1+scores[a])\n",
    "                ridx = list(rooms[rooms['room_type']==courses.loc[courses.index[i],4]].index).index(sched[courses.index[i]][1])\n",
    "                pher_room[i][ridx] += 1.0/(1+scores[a])\n",
    "    return best,best_score"
   ]
  },
  {
   "cell_type": "markdown",
   "id": "a79c3c15",
   "metadata": {},
   "source": [
    "# Improved GA (elitism + adaptive mutation)"
   ]
  },
  {
   "cell_type": "code",
   "execution_count": 12,
   "id": "e5aa0d16",
   "metadata": {},
   "outputs": [],
   "source": [
    "def improved_ga(generations=200,pop_size=60):\n",
    "    pop = [random_schedule() for _ in range(pop_size)]\n",
    "    pop_scores = [fitness(ind) for ind in pop]\n",
    "    best_idx = int(np.argmin(pop_scores))\n",
    "    best = pop[best_idx]; best_score = pop_scores[best_idx]\n",
    "    for gen in trange(generations, desc='ImpGA'):\n",
    "        new_pop = []\n",
    "        # elitism: keep top 5\n",
    "        elite_k = max(1,int(0.05*pop_size))\n",
    "        idxs = np.argsort(pop_scores)\n",
    "        for k in range(elite_k):\n",
    "            new_pop.append(copy.deepcopy(pop[idxs[k]]))\n",
    "        while len(new_pop)<pop_size:\n",
    "            # selection roulette\n",
    "            fitness_vals = np.array(pop_scores)\n",
    "            # convert to positive selection probs (lower fitness -> higher chance)\n",
    "            probs = (1/(1+fitness_vals))/((1/(1+fitness_vals)).sum())\n",
    "            p1 = pop[np.random.choice(range(pop_size),p=probs)]\n",
    "            p2 = pop[np.random.choice(range(pop_size),p=probs)]\n",
    "            # crossover\n",
    "            keys = list(courses.index)\n",
    "            cx = random.randint(1,len(keys)-1)\n",
    "            child = {}\n",
    "            for i,k in enumerate(keys):\n",
    "                child[k] = copy.deepcopy(p1[k]) if i<cx else copy.deepcopy(p2[k])\n",
    "            # adaptive mutation based on diversity\n",
    "            mut_prob = 0.1 if gen<generations*0.6 else 0.02\n",
    "            if random.random()<mut_prob:\n",
    "                m = random.choice(list(courses.index))\n",
    "                duration = int(courses.loc[m,6])\n",
    "                sidx = random.randint(0,len(available_slots)-duration)\n",
    "                candidate_rooms = rooms[rooms['room_type']==courses.loc[m,4]].index.tolist()\n",
    "                room = random.choice(candidate_rooms)\n",
    "                child[m] = (sidx,room)\n",
    "            new_pop.append(child)\n",
    "        pop = new_pop\n",
    "        pop_scores = [fitness(ind) for ind in pop]\n",
    "        cur_best_idx = int(np.argmin(pop_scores))\n",
    "        if pop_scores[cur_best_idx] < best_score:\n",
    "            best_score = pop_scores[cur_best_idx]\n",
    "            best = pop[cur_best_idx]\n",
    "    return best,best_score"
   ]
  },
  {
   "cell_type": "markdown",
   "id": "a96661f3",
   "metadata": {},
   "source": [
    "# Improved PSO (discrete with local search)"
   ]
  },
  {
   "cell_type": "code",
   "execution_count": 13,
   "id": "2dde4820",
   "metadata": {},
   "outputs": [],
   "source": [
    "def improved_pso(particles=30, iterations=250):\n",
    "    # use ps0 but add local hill-climb occasionally\n",
    "    sched,score = ps0_optimize(particles=particles, iterations=iterations//2)\n",
    "    # local hill-climb from result\n",
    "    best, best_score = sched, score\n",
    "    for _ in trange(200, desc='ImpPSO-local'):\n",
    "        neighbor = copy.deepcopy(best)\n",
    "        m = random.choice(list(courses.index))\n",
    "        duration = int(courses.loc[m,6])\n",
    "        sidx = random.randint(0,len(available_slots)-duration)\n",
    "        candidate_rooms = rooms[rooms['room_type']==courses.loc[m,4]].index.tolist()\n",
    "        room = random.choice(candidate_rooms)\n",
    "        neighbor[m] = (sidx,room)\n",
    "        ns = fitness(neighbor)\n",
    "        if ns<best_score:\n",
    "            best, best_score = neighbor, ns\n",
    "    return best,best_score"
   ]
  },
  {
   "cell_type": "markdown",
   "id": "cd730c4c",
   "metadata": {},
   "source": [
    "# Puma Optimization Algorithm (simple implementation)"
   ]
  },
  {
   "cell_type": "code",
   "execution_count": 14,
   "id": "4c234a24",
   "metadata": {},
   "outputs": [],
   "source": [
    "def puma_optimize(pop_size=30, iterations=200, stalk_prob=0.7, pounce_prob=0.3):\n",
    "    \"\"\"\n",
    "    Puma optimizer adapted to schedule dicts used in notebook.\n",
    "    - pop_size: jumlah puma (populasi)\n",
    "    - iterations: iterasi maksimum\n",
    "    - stalk_prob: probabilitas memilih mekanisme stalking (mendekati best)\n",
    "    - pounce_prob: probabilitas lompat eksplorasi per course\n",
    "    \"\"\"\n",
    "    # helper: random schedule already defined as random_schedule()\n",
    "    # helper: room candidates per course\n",
    "    room_candidates = {cid: rooms[rooms['room_type']==courses.loc[cid,4]].index.tolist()\n",
    "                       for cid in courses.index}\n",
    "\n",
    "    # initialize population (list of schedule dicts)\n",
    "    population = [random_schedule() for _ in range(pop_size)]\n",
    "    scores = [fitness(ind) for ind in population]\n",
    "\n",
    "    best_idx = int(np.argmin(scores))\n",
    "    best = copy.deepcopy(population[best_idx])\n",
    "    best_score = scores[best_idx]\n",
    "\n",
    "    convergence = []\n",
    "\n",
    "    for it in trange(iterations, desc='PUMA'):\n",
    "        new_pop = []\n",
    "\n",
    "        for i in range(pop_size):\n",
    "            current = copy.deepcopy(population[i])\n",
    "\n",
    "            # STALK: create candidate by moving some courses closer to best\n",
    "            stalk_candidate = copy.deepcopy(current)\n",
    "            for cid in courses.index:\n",
    "                if random.random() < 0.5:  # choose some courses to attempt stalking\n",
    "                    # with small chance, nudge timeslot towards best's timeslot\n",
    "                    cur_slot, cur_room = stalk_candidate[cid]\n",
    "                    best_slot, best_room = best[cid]\n",
    "                    # nudge timeslot one step towards best (if different)\n",
    "                    if cur_slot < best_slot:\n",
    "                        new_slot = min(cur_slot + 1, len(available_slots)-int(courses.loc[cid,6]))\n",
    "                    elif cur_slot > best_slot:\n",
    "                        new_slot = max(cur_slot - 1, 0)\n",
    "                    else:\n",
    "                        new_slot = cur_slot\n",
    "                    # adopt best room with some chance\n",
    "                    new_room = best_room if random.random() < 0.5 else cur_room\n",
    "                    stalk_candidate[cid] = (new_slot, new_room)\n",
    "\n",
    "            # POUNCE: exploratory candidate (random reassignments)\n",
    "            pounce_candidate = copy.deepcopy(current)\n",
    "            for cid in courses.index:\n",
    "                if random.random() < pounce_prob:\n",
    "                    duration = int(courses.loc[cid,6])\n",
    "                    sidx = random.randint(0, len(available_slots)-duration)\n",
    "                    rlist = room_candidates[cid]\n",
    "                    room = random.choice(rlist)\n",
    "                    pounce_candidate[cid] = (sidx, room)\n",
    "\n",
    "            # choose between stalking and pouncing adaptively\n",
    "            if random.random() < stalk_prob:\n",
    "                candidate = stalk_candidate\n",
    "            else:\n",
    "                candidate = pounce_candidate\n",
    "\n",
    "            # small local tweak: sometimes swap two courses' slots to escape local minima\n",
    "            if random.random() < 0.1:\n",
    "                a,b = random.sample(list(courses.index), 2)\n",
    "                ca = candidate[a]\n",
    "                cb = candidate[b]\n",
    "                # swap only timeslot (keep room) if room types compatible\n",
    "                if courses.loc[a,4] == courses.loc[b,4]:\n",
    "                    candidate[a] = (cb[0], ca[1])\n",
    "                    candidate[b] = (ca[0], cb[1])\n",
    "\n",
    "            new_pop.append(candidate)\n",
    "\n",
    "        # Evaluate new population\n",
    "        new_scores = [fitness(ind) for ind in new_pop]\n",
    "\n",
    "        # Combine and select best pop_size solutions (minimization)\n",
    "        combined = population + new_pop\n",
    "        combined_scores = scores + new_scores\n",
    "        idxs = np.argsort(combined_scores)[:pop_size]\n",
    "        population = [copy.deepcopy(combined[i]) for i in idxs]\n",
    "        scores = [combined_scores[i] for i in idxs]\n",
    "\n",
    "        # update best\n",
    "        if scores[0] < best_score:\n",
    "            best_score = scores[0]\n",
    "            best = copy.deepcopy(population[0])\n",
    "\n",
    "        convergence.append(best_score)\n",
    "\n",
    "    return best, best_score, convergence"
   ]
  },
  {
   "cell_type": "markdown",
   "id": "383cb6e6",
   "metadata": {},
   "source": [
    "# Coati Optimization Algorithm (simple implementation)"
   ]
  },
  {
   "cell_type": "code",
   "execution_count": 15,
   "id": "7f393735",
   "metadata": {},
   "outputs": [],
   "source": [
    "def coati_optimize(pop_size=40, iterations=300):\n",
    "    # Inspired by coati behaviour: group-based exploration + local search\n",
    "    pop = [random_schedule() for _ in range(pop_size)]\n",
    "    scores = [fitness(p) for p in pop]\n",
    "    best_idx = int(np.argmin(scores)); best=pop[best_idx]; best_score=scores[best_idx]\n",
    "    for it in trange(iterations, desc='COATI'):\n",
    "        # sort by fitness\n",
    "        order = np.argsort(scores)\n",
    "        pop = [pop[i] for i in order]\n",
    "        scores = [scores[i] for i in order]\n",
    "        # top explorers: perform local search (intensification)\n",
    "        for i in range(max(1,int(0.2*pop_size))):\n",
    "            candidate = copy.deepcopy(pop[i])\n",
    "            # local tweak several courses\n",
    "            for _ in range(3):\n",
    "                m = random.choice(list(courses.index))\n",
    "                duration = int(courses.loc[m,6])\n",
    "                sidx = max(0, min(len(available_slots)-duration, candidate[m][0]+random.randint(-2,2)))\n",
    "                rlist = rooms[rooms['room_type']==courses.loc[m,4]].index.tolist()\n",
    "                room = random.choice(rlist) if random.random()<0.3 else candidate[m][1]\n",
    "                candidate[m] = (sidx,room)\n",
    "            sc = fitness(candidate)\n",
    "            if sc < scores[i]:\n",
    "                pop[i]=candidate; scores[i]=sc\n",
    "                if sc < best_score:\n",
    "                    best, best_score = candidate, sc\n",
    "        # others perform exploration by recombining with random individuals\n",
    "        for i in range(int(0.2*pop_size), pop_size):\n",
    "            donor = random.choice(pop[:max(1,int(0.3*pop_size))])\n",
    "            target = copy.deepcopy(pop[i])\n",
    "            # replace random subset of courses from donor\n",
    "            num_replace = random.randint(1, max(1,len(courses)//4))\n",
    "            keys = random.sample(list(courses.index), num_replace)\n",
    "            for k in keys:\n",
    "                target[k] = copy.deepcopy(donor[k])\n",
    "            # random walk\n",
    "            if random.random()<0.3:\n",
    "                m = random.choice(list(courses.index))\n",
    "                duration = int(courses.loc[m,6])\n",
    "                sidx = random.randint(0,len(available_slots)-duration)\n",
    "                rlist = rooms[rooms['room_type']==courses.loc[m,4]].index.tolist()\n",
    "                room = random.choice(rlist)\n",
    "                target[m] = (sidx,room)\n",
    "            sc = fitness(target)\n",
    "            pop[i]=target; scores[i]=sc\n",
    "            if sc < best_score:\n",
    "                best, best_score = target, sc\n",
    "    return best,best_score"
   ]
  },
  {
   "cell_type": "markdown",
   "id": "5a1195ea",
   "metadata": {},
   "source": [
    "# Run all algorithms (short demo with small iterations)"
   ]
  },
  {
   "cell_type": "code",
   "execution_count": 17,
   "id": "16614ba1",
   "metadata": {},
   "outputs": [
    {
     "name": "stdout",
     "output_type": "stream",
     "text": [
      "\n",
      "Running GA\n"
     ]
    },
    {
     "name": "stderr",
     "output_type": "stream",
     "text": [
      "GA: 100%|██████████| 150/150 [00:08<00:00, 17.38it/s]\n"
     ]
    },
    {
     "name": "stdout",
     "output_type": "stream",
     "text": [
      "GA score = 16\n",
      "\n",
      "Running ImpGA\n"
     ]
    },
    {
     "name": "stderr",
     "output_type": "stream",
     "text": [
      "ImpGA: 100%|██████████| 150/150 [00:10<00:00, 14.76it/s]\n"
     ]
    },
    {
     "name": "stdout",
     "output_type": "stream",
     "text": [
      "ImpGA score = 16\n",
      "\n",
      "Running SA\n",
      "SA score = 16\n",
      "\n",
      "Running PSO\n"
     ]
    },
    {
     "name": "stderr",
     "output_type": "stream",
     "text": [
      "PSO: 100%|██████████| 200/200 [00:07<00:00, 27.64it/s]\n"
     ]
    },
    {
     "name": "stdout",
     "output_type": "stream",
     "text": [
      "PSO score = 18\n",
      "\n",
      "Running ImpPSO\n"
     ]
    },
    {
     "name": "stderr",
     "output_type": "stream",
     "text": [
      "PSO: 100%|██████████| 100/100 [00:02<00:00, 42.00it/s]\n",
      "ImpPSO-local: 100%|██████████| 200/200 [00:00<00:00, 739.45it/s]\n"
     ]
    },
    {
     "name": "stdout",
     "output_type": "stream",
     "text": [
      "ImpPSO score = 16\n",
      "\n",
      "Running ACO\n"
     ]
    },
    {
     "name": "stderr",
     "output_type": "stream",
     "text": [
      "ACO: 100%|██████████| 150/150 [00:38<00:00,  3.88it/s]\n"
     ]
    },
    {
     "name": "stdout",
     "output_type": "stream",
     "text": [
      "ACO score = 17\n",
      "\n",
      "Running PUMA\n"
     ]
    },
    {
     "name": "stderr",
     "output_type": "stream",
     "text": [
      "PUMA: 100%|██████████| 200/200 [00:07<00:00, 26.53it/s]\n"
     ]
    },
    {
     "name": "stdout",
     "output_type": "stream",
     "text": [
      "PUMA score = 16\n",
      "\n",
      "Running COATI\n"
     ]
    },
    {
     "name": "stderr",
     "output_type": "stream",
     "text": [
      "COATI: 100%|██████████| 200/200 [00:07<00:00, 25.37it/s]"
     ]
    },
    {
     "name": "stdout",
     "output_type": "stream",
     "text": [
      "COATI score = 16\n"
     ]
    },
    {
     "name": "stderr",
     "output_type": "stream",
     "text": [
      "\n"
     ]
    }
   ],
   "source": [
    "algos = [\n",
    "    ('GA', lambda: ga_optimize(generations=150,pop_size=50)),\n",
    "    ('ImpGA', lambda: improved_ga(generations=150,pop_size=60)),\n",
    "    ('SA', lambda: sa_optimize(iterations=3000)),\n",
    "    ('PSO', lambda: ps0_optimize(particles=30, iterations=200)),\n",
    "    ('ImpPSO', lambda: improved_pso(particles=20, iterations=200)),\n",
    "    ('ACO', lambda: aco_optimize(ants=30, iterations=150)),\n",
    "    ('PUMA', lambda: puma_optimize(pop_size=30, iterations=200)),\n",
    "    ('COATI', lambda: coati_optimize(pop_size=30, iterations=200)),\n",
    "]\n",
    "\n",
    "results = {}\n",
    "for name, fn in algos:\n",
    "    print('\\nRunning', name)\n",
    "    if name == 'PUMA':\n",
    "        best, sc, curve = fn()            # ambil 3 nilai\n",
    "        results[name] = (best, sc, curve) # simpan 3\n",
    "    else:\n",
    "        best, sc = fn()                   # ambil 2 nilai\n",
    "        results[name] = (best, sc, None)  # simpan 2 + placeholder\n",
    "    print(name, 'score =', sc)"
   ]
  },
  {
   "cell_type": "markdown",
   "id": "f659528f",
   "metadata": {},
   "source": [
    "# Simple reporting"
   ]
  },
  {
   "cell_type": "code",
   "execution_count": null,
   "id": "ffeef531",
   "metadata": {},
   "outputs": [
    {
     "name": "stdout",
     "output_type": "stream",
     "text": [
      "\n",
      "=== GA score 16 ===\n",
      " code                                name  lecturer day  hour    room\n",
      "    5 Komunikasi dan Teknologi Pendidikan        39 Fri     9   F11.3\n",
      "    3       Filsafat Pendidikan dan Sains       103 Fri    14   F11.1\n",
      "    4 Komunikasi dan Teknologi Pendidikan       103 Fri    16    F2.1\n",
      "    0          Perkembangan Peserta Didik        39 Mon     7   F11.3\n",
      "    9            Perancangan Pembelajaran        39 Mon     9    F2.2\n",
      "    1          Perkembangan Peserta Didik        59 Mon    13   F11.1\n",
      "   12            Praktikum Sistem Operasi        41 Thu     8 LABJAR1\n",
      "    2       Filsafat Pendidikan dan Sains       103 Thu    16   F11.1\n",
      "    8                  Pembelajaran Mikro       100 Tue     7   F11.1\n",
      "   11                  Praktikum Jaringan        41 Tue    10 LABJAR1\n",
      "    7                  Pembelajaran Mikro        39 Wed     7   F11.3\n",
      "   10  Pengenalan Lapangan Persekolahan 1       103 Wed    16    F2.1\n",
      "    6             Penilaian Hasil Belajar       100 Wed    17    F2.2\n",
      "\n",
      "=== ImpGA score 16 ===\n",
      " code                                name  lecturer day  hour    room\n",
      "    0          Perkembangan Peserta Didik        39 Fri     7    F2.1\n",
      "    6             Penilaian Hasil Belajar       100 Fri     7   F11.1\n",
      "   10  Pengenalan Lapangan Persekolahan 1       103 Fri    15   F11.3\n",
      "    5 Komunikasi dan Teknologi Pendidikan        39 Thu     9    F2.2\n",
      "   11                  Praktikum Jaringan        41 Thu    10 LABJAR1\n",
      "    8                  Pembelajaran Mikro       100 Thu    15    F2.2\n",
      "   12            Praktikum Sistem Operasi        41 Thu    16 LABJAR2\n",
      "    1          Perkembangan Peserta Didik        59 Tue     7    F2.1\n",
      "    7                  Pembelajaran Mikro        39 Tue     8   F11.3\n",
      "    4 Komunikasi dan Teknologi Pendidikan       103 Tue    15   F11.3\n",
      "    9            Perancangan Pembelajaran        39 Wed     7   F11.3\n",
      "    2       Filsafat Pendidikan dan Sains       103 Wed    13    F2.1\n",
      "    3       Filsafat Pendidikan dan Sains       103 Wed    15    F2.1\n",
      "\n",
      "=== SA score 16 ===\n",
      " code                                name  lecturer day  hour    room\n",
      "    0          Perkembangan Peserta Didik        39 Fri     7    F2.1\n",
      "    9            Perancangan Pembelajaran        39 Fri    10    F2.2\n",
      "    3       Filsafat Pendidikan dan Sains       103 Fri    13   F11.1\n",
      "    1          Perkembangan Peserta Didik        59 Fri    15   F11.3\n",
      "    2       Filsafat Pendidikan dan Sains       103 Fri    15    F2.1\n",
      "    5 Komunikasi dan Teknologi Pendidikan        39 Mon     7    F2.2\n",
      "   11                  Praktikum Jaringan        41 Thu    13 LABJAR2\n",
      "   10  Pengenalan Lapangan Persekolahan 1       103 Thu    14   F11.3\n",
      "    6             Penilaian Hasil Belajar       100 Tue     8   F11.1\n",
      "    7                  Pembelajaran Mikro        39 Wed    10   F11.3\n",
      "    4 Komunikasi dan Teknologi Pendidikan       103 Wed    15   F11.1\n",
      "    8                  Pembelajaran Mikro       100 Wed    16   F11.3\n",
      "   12            Praktikum Sistem Operasi        41 Wed    16 LABJAR2\n",
      "\n",
      "=== PSO score 17 ===\n",
      " code                                name  lecturer day  hour    room\n",
      "    1          Perkembangan Peserta Didik        59 Fri     8   F11.3\n",
      "   12            Praktikum Sistem Operasi        41 Fri    14 LABJAR2\n",
      "    7                  Pembelajaran Mikro        39 Mon    10   F11.3\n",
      "    6             Penilaian Hasil Belajar       100 Mon    11    F2.1\n",
      "    8                  Pembelajaran Mikro       100 Mon    15    F2.1\n",
      "    5 Komunikasi dan Teknologi Pendidikan        39 Thu     9   F11.1\n",
      "    0          Perkembangan Peserta Didik        39 Thu    14    F2.1\n",
      "    3       Filsafat Pendidikan dan Sains       103 Thu    16   F11.3\n",
      "   11                  Praktikum Jaringan        41 Tue     9 LABJAR2\n",
      "    2       Filsafat Pendidikan dan Sains       103 Tue    13   F11.1\n",
      "    9            Perancangan Pembelajaran        39 Wed     7   F11.1\n",
      "    4 Komunikasi dan Teknologi Pendidikan       103 Wed    13    F2.2\n",
      "   10  Pengenalan Lapangan Persekolahan 1       103 Wed    16    F2.1\n",
      "\n",
      "=== ImpPSO score 16 ===\n",
      " code                                name  lecturer day  hour    room\n",
      "    9            Perancangan Pembelajaran        39 Fri     7   F11.1\n",
      "   10  Pengenalan Lapangan Persekolahan 1       103 Fri    13   F11.3\n",
      "    2       Filsafat Pendidikan dan Sains       103 Fri    15   F11.3\n",
      "   12            Praktikum Sistem Operasi        41 Mon     7 LABJAR1\n",
      "    0          Perkembangan Peserta Didik        39 Thu     7    F2.2\n",
      "   11                  Praktikum Jaringan        41 Thu     8 LABJAR2\n",
      "    8                  Pembelajaran Mikro       100 Thu    13   F11.1\n",
      "    7                  Pembelajaran Mikro        39 Tue     7   F11.1\n",
      "    5 Komunikasi dan Teknologi Pendidikan        39 Tue    10   F11.3\n",
      "    1          Perkembangan Peserta Didik        59 Tue    16   F11.1\n",
      "    4 Komunikasi dan Teknologi Pendidikan       103 Wed    13   F11.1\n",
      "    3       Filsafat Pendidikan dan Sains       103 Wed    15   F11.1\n",
      "    6             Penilaian Hasil Belajar       100 Wed    16   F11.1\n",
      "\n",
      "=== ACO score 16 ===\n",
      " code                                name  lecturer day  hour    room\n",
      "    7                  Pembelajaran Mikro        39 Fri     7    F2.1\n",
      "    0          Perkembangan Peserta Didik        39 Fri    10   F11.1\n",
      "    2       Filsafat Pendidikan dan Sains       103 Fri    16   F11.1\n",
      "    9            Perancangan Pembelajaran        39 Mon     8   F11.3\n",
      "    3       Filsafat Pendidikan dan Sains       103 Mon    14   F11.3\n",
      "    6             Penilaian Hasil Belajar       100 Thu     8    F2.1\n",
      "   12            Praktikum Sistem Operasi        41 Thu     9 LABJAR1\n",
      "   10  Pengenalan Lapangan Persekolahan 1       103 Thu    15   F11.1\n",
      "    5 Komunikasi dan Teknologi Pendidikan        39 Tue    10   F11.3\n",
      "    8                  Pembelajaran Mikro       100 Tue    15   F11.3\n",
      "   11                  Praktikum Jaringan        41 Wed     8 LABJAR2\n",
      "    1          Perkembangan Peserta Didik        59 Wed    14   F11.1\n",
      "    4 Komunikasi dan Teknologi Pendidikan       103 Wed    14    F2.1\n",
      "\n",
      "=== COATI score 16 ===\n",
      " code                                name  lecturer day  hour    room\n",
      "    3       Filsafat Pendidikan dan Sains       103 Fri    13   F11.1\n",
      "    7                  Pembelajaran Mikro        39 Mon     7   F11.1\n",
      "   12            Praktikum Sistem Operasi        41 Mon     9 LABJAR1\n",
      "    5 Komunikasi dan Teknologi Pendidikan        39 Mon    10    F2.1\n",
      "    6             Penilaian Hasil Belajar       100 Thu    13   F11.1\n",
      "    2       Filsafat Pendidikan dan Sains       103 Thu    14   F11.3\n",
      "    1          Perkembangan Peserta Didik        59 Thu    16   F11.3\n",
      "    9            Perancangan Pembelajaran        39 Tue     8    F2.1\n",
      "    8                  Pembelajaran Mikro       100 Tue     9   F11.1\n",
      "    0          Perkembangan Peserta Didik        39 Tue    10   F11.1\n",
      "   10  Pengenalan Lapangan Persekolahan 1       103 Tue    13   F11.1\n",
      "    4 Komunikasi dan Teknologi Pendidikan       103 Tue    15    F2.1\n",
      "   11                  Praktikum Jaringan        41 Wed    14  LABOS1\n"
     ]
    }
   ],
   "source": [
    "for name,(sched,sc) in results.items():\n",
    "    print('\\n===',name,'score',sc,'===')\n",
    "    # print schedule in human-friendly form\n",
    "    rows = []\n",
    "    for cid,(sidx,room) in sched.items():\n",
    "        timeslot = available_slots[sidx]\n",
    "        rows.append((cid, courses.loc[cid,1], courses.loc[cid,5], timeslot[0], timeslot[1], room))\n",
    "    df = pd.DataFrame(rows, columns=['code','name','lecturer','day','hour','room'])\n",
    "    print(df.sort_values(['day','hour']).to_string(index=False))"
   ]
  },
  {
   "cell_type": "markdown",
   "id": "2ec88f04",
   "metadata": {},
   "source": [
    "# Save best (example)"
   ]
  },
  {
   "cell_type": "code",
   "execution_count": null,
   "id": "9e455e87",
   "metadata": {},
   "outputs": [
    {
     "name": "stdout",
     "output_type": "stream",
     "text": [
      "\n",
      "Best overall: GA score= 16\n"
     ]
    }
   ],
   "source": [
    "best_name = min(results.keys(), key=lambda k: results[k][1])\n",
    "best_sched = results[best_name][0]\n",
    "print('\\nBest overall:', best_name, 'score=', results[best_name][1])\n",
    "\n",
    "# You can extend and tune each algorithm: add more realistic timeslot durations (90/120 mins),\n",
    "# incorporate student-group conflicts, more sophisticated local search for COATI, and\n",
    "# increase iteration/pop sizes for production runs."
   ]
  }
 ],
 "metadata": {
  "kernelspec": {
   "display_name": "skripsi",
   "language": "python",
   "name": "python3"
  },
  "language_info": {
   "codemirror_mode": {
    "name": "ipython",
    "version": 3
   },
   "file_extension": ".py",
   "mimetype": "text/x-python",
   "name": "python",
   "nbconvert_exporter": "python",
   "pygments_lexer": "ipython3",
   "version": "3.10.18"
  }
 },
 "nbformat": 4,
 "nbformat_minor": 5
}
