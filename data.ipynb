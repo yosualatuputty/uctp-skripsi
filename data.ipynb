{
 "cells": [
  {
   "cell_type": "code",
   "execution_count": 5,
   "id": "746d69d5",
   "metadata": {},
   "outputs": [
    {
     "name": "stdout",
     "output_type": "stream",
     "text": [
      "Requirement already satisfied: pandas in d:\\tmp_\\skripsi\\shared repo\\.venv\\lib\\site-packages (2.3.3)\n",
      "Requirement already satisfied: numpy>=1.26.0 in d:\\tmp_\\skripsi\\shared repo\\.venv\\lib\\site-packages (from pandas) (2.3.3)\n",
      "Requirement already satisfied: python-dateutil>=2.8.2 in d:\\tmp_\\skripsi\\shared repo\\.venv\\lib\\site-packages (from pandas) (2.9.0.post0)\n",
      "Requirement already satisfied: pytz>=2020.1 in d:\\tmp_\\skripsi\\shared repo\\.venv\\lib\\site-packages (from pandas) (2025.2)\n",
      "Requirement already satisfied: tzdata>=2022.7 in d:\\tmp_\\skripsi\\shared repo\\.venv\\lib\\site-packages (from pandas) (2025.2)\n",
      "Requirement already satisfied: six>=1.5 in d:\\tmp_\\skripsi\\shared repo\\.venv\\lib\\site-packages (from python-dateutil>=2.8.2->pandas) (1.17.0)\n"
     ]
    },
    {
     "name": "stderr",
     "output_type": "stream",
     "text": [
      "\n",
      "[notice] A new release of pip is available: 24.2 -> 25.2\n",
      "[notice] To update, run: python.exe -m pip install --upgrade pip\n"
     ]
    }
   ],
   "source": [
    "!pip install pandas"
   ]
  },
  {
   "cell_type": "code",
   "execution_count": 97,
   "id": "a4f86198",
   "metadata": {},
   "outputs": [],
   "source": [
    "import pandas as pd\n",
    "import os"
   ]
  },
  {
   "cell_type": "code",
   "execution_count": null,
   "id": "63d1bae4",
   "metadata": {},
   "outputs": [],
   "source": [
    "# pd.set_option('display.max_rows', None)"
   ]
  },
  {
   "cell_type": "code",
   "execution_count": 100,
   "id": "41b7d699",
   "metadata": {},
   "outputs": [],
   "source": [
    "df_all = pd.read_csv(\"Data/dsi_all_data.csv\", sep=\";\")\n",
    "df_mk = pd.read_csv(\"dsi_mk.csv\")\n",
    "\n",
    "df_merged = pd.merge(df_all, df_mk, on=[\"Nama MK\", \"Prodi MK\"], how=\"outer\")\n",
    "df_merged[[\"Kode MK_x\", \"Nama MK\", \"Prodi MK\", \"Prioritas\", \"Berminat\", \"Nama Dosen\", \"SKS\", \"Praktikum\", \"Kewajiban\"]]\n",
    "df_merged = df_merged.rename(columns={'Kode MK_x': 'Kode MK'})\n",
    "df_merged.head()\n",
    "df_merged.to_csv(\"data_final.csv\", index=False)"
   ]
  }
 ],
 "metadata": {
  "kernelspec": {
   "display_name": ".venv",
   "language": "python",
   "name": "python3"
  },
  "language_info": {
   "codemirror_mode": {
    "name": "ipython",
    "version": 3
   },
   "file_extension": ".py",
   "mimetype": "text/x-python",
   "name": "python",
   "nbconvert_exporter": "python",
   "pygments_lexer": "ipython3",
   "version": "3.13.0"
  }
 },
 "nbformat": 4,
 "nbformat_minor": 5
}
