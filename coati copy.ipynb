{
 "cells": [
  {
   "cell_type": "markdown",
   "id": "eadbed1e",
   "metadata": {},
   "source": [
    "## Imports"
   ]
  },
  {
   "cell_type": "code",
   "execution_count": 1,
   "id": "e742502c",
   "metadata": {},
   "outputs": [],
   "source": [
    "import time\n",
    "import math\n",
    "import random\n",
    "import copy\n",
    "from collections import defaultdict\n",
    "import itertools\n",
    "\n",
    "import pandas as pd\n",
    "import numpy as np\n",
    "import matplotlib.pyplot as plt\n",
    "from tqdm import trange"
   ]
  },
  {
   "cell_type": "code",
   "execution_count": 2,
   "id": "2874c2c4",
   "metadata": {},
   "outputs": [],
   "source": [
    "random.seed(42)\n",
    "np.random.seed(42)"
   ]
  },
  {
   "cell_type": "markdown",
   "id": "d50a2448",
   "metadata": {},
   "source": [
    "## Load Data"
   ]
  },
  {
   "cell_type": "code",
   "execution_count": 3,
   "id": "80947b97",
   "metadata": {},
   "outputs": [
    {
     "name": "stdout",
     "output_type": "stream",
     "text": [
      "Loaded: 846 course rows, 42 class rooms, 109 labs\n"
     ]
    }
   ],
   "source": [
    "courses_raw = pd.read_csv('Data/data_final.csv')\n",
    "rooms_df = pd.read_csv('Data/Ruang Kuliah.csv')\n",
    "labs_df = pd.read_csv('Data/Laboratorium.csv')\n",
    "\n",
    "print('Loaded:', len(courses_raw), 'course rows,', len(rooms_df), 'class rooms,', len(labs_df), 'labs')\n",
    "\n",
    "# Normalize column names\n",
    "courses_raw.columns = [c.strip() for c in courses_raw.columns]\n",
    "rooms_df.columns = [c.strip() for c in rooms_df.columns]\n",
    "labs_df.columns = [c.strip() for c in labs_df.columns]\n",
    "\n",
    "# detect important columns (flexible)\n",
    "col_map = {}\n",
    "for col in courses_raw.columns:\n",
    "    lc = col.lower()\n",
    "    if 'kode' in lc and 'mk' in lc:\n",
    "        col_map['kode'] = col\n",
    "    if ('nama' in lc and 'mk' in lc) or ('nama' in lc and 'mata' in lc):\n",
    "        col_map['nama'] = col\n",
    "    if 'sks' in lc:\n",
    "        col_map['sks'] = col\n",
    "    if 'praktik' in lc or 'praktikum' in lc:\n",
    "        col_map['praktikum'] = col\n",
    "    if 'dosen' in lc:\n",
    "        col_map['dosen'] = col\n",
    "    if 'prioritas' in lc:\n",
    "        col_map['prioritas'] = col\n",
    "\n",
    "required = ['kode','nama','sks','praktikum','dosen','prioritas']\n",
    "for r in required:\n",
    "    if r not in col_map:\n",
    "        raise ValueError(f\"Kolom '{r}' tidak ditemukan di data_final.csv. Kolom tersedia: {courses_raw.columns.tolist()}\")\n",
    "\n",
    "# rooms columns\n",
    "rmap = {}\n",
    "for col in rooms_df.columns:\n",
    "    lc = col.lower()\n",
    "    if 'kode' in lc and 'ruang' in lc:\n",
    "        rmap['kode'] = col\n",
    "    if 'lantai' in lc:\n",
    "        rmap['lantai'] = col\n",
    "    if 'keterangan' in lc or 'lokasi' in lc or 'nama' in lc:\n",
    "        if 'keterangan' not in rmap:\n",
    "            rmap['keterangan'] = col\n",
    "\n",
    "if 'kode' not in rmap:\n",
    "    # fallback to first column\n",
    "    rmap['kode'] = rooms_df.columns[0]\n",
    "\n",
    "# labs columns\n",
    "lmap = {}\n",
    "for col in labs_df.columns:\n",
    "    lc = col.lower()\n",
    "    if 'labor' in lc or 'nama' in lc or 'lab' in lc:\n",
    "        lmap['nama'] = col\n",
    "    if 'no' in lc or 'kode' in lc or 'id' in lc:\n",
    "        lmap['kode'] = col\n",
    "\n",
    "if 'kode' not in lmap:\n",
    "    lmap['kode'] = labs_df.columns[0]\n",
    "\n",
    "# Build normalized lists\n",
    "class_rooms = rooms_df[rmap['kode']].astype(str).tolist()\n",
    "room_floor = {}\n",
    "if 'lantai' in rmap:\n",
    "    for _,r in rooms_df.iterrows():\n",
    "        room_floor[str(r[rmap['kode']])] = int(r[rmap['lantai']]) if not pd.isna(r[rmap['lantai']]) else 0\n",
    "else:\n",
    "    for rm in class_rooms:\n",
    "        room_floor[str(rm)] = 0\n",
    "\n",
    "lab_rooms = labs_df[lmap['kode']].astype(str).tolist()\n",
    "lab_floor = {str(l): -1 for l in lab_rooms}  # mark different building\n",
    "\n",
    "all_rooms = class_rooms + lab_rooms"
   ]
  },
  {
   "cell_type": "markdown",
   "id": "d34123fe",
   "metadata": {},
   "source": [
    "## Build courses dictionary "
   ]
  },
  {
   "cell_type": "code",
   "execution_count": 4,
   "id": "8d3347b1",
   "metadata": {},
   "outputs": [
    {
     "name": "stdout",
     "output_type": "stream",
     "text": [
      "Normalized courses entries: 846\n"
     ]
    }
   ],
   "source": [
    "courses = {}\n",
    "for idx,row in courses_raw.iterrows():\n",
    "    kode = str(row[col_map['kode']]).strip()\n",
    "    key = f\"{kode}__{idx}\"\n",
    "    courses[key] = {\n",
    "        'kode': kode,\n",
    "        'nama': row[col_map['nama']],\n",
    "        'sks': int(row[col_map['sks']]),\n",
    "        'praktikum': int(row[col_map['praktikum']]),\n",
    "        'dosen': row[col_map['dosen']],\n",
    "        'prioritas': int(row[col_map['prioritas']]) if not pd.isna(row[col_map['prioritas']]) else 999\n",
    "    }\n",
    "\n",
    "course_keys = list(courses.keys())\n",
    "print('Normalized courses entries:', len(course_keys))"
   ]
  },
  {
   "cell_type": "markdown",
   "id": "93cbad84",
   "metadata": {},
   "source": [
    "## Timeslot generation"
   ]
  },
  {
   "cell_type": "code",
   "execution_count": 5,
   "id": "c72facea",
   "metadata": {},
   "outputs": [
    {
     "name": "stdout",
     "output_type": "stream",
     "text": [
      "Total available slots per week per room: 49\n",
      "Total sessions to schedule: 2472\n"
     ]
    }
   ],
   "source": [
    "DAYS = ['Mon','Tue','Wed','Thu','Fri']\n",
    "HOURS = list(range(7,18))  # 7..17\n",
    "available_slots = []\n",
    "for day in DAYS:\n",
    "    for h in HOURS:\n",
    "        if day in ['Mon','Tue','Wed','Thu'] and h==12:\n",
    "            continue\n",
    "        if day == 'Fri' and h in (11,12):\n",
    "            continue\n",
    "        available_slots.append((day,h))\n",
    "\n",
    "SLOT_INDEX = {s:i for i,s in enumerate(available_slots)}\n",
    "print('Total available slots per week per room:', len(available_slots))\n",
    "\n",
    "# helper mapping for session ordering\n",
    "session_index_map = []\n",
    "for k in course_keys:\n",
    "    for si in range(courses[k]['sks']):\n",
    "        session_index_map.append((k,si))\n",
    "TOTAL_SESSIONS = len(session_index_map)\n",
    "print('Total sessions to schedule:', TOTAL_SESSIONS)"
   ]
  },
  {
   "cell_type": "markdown",
   "id": "8f5f6734",
   "metadata": {},
   "source": [
    "## Building empty schedule structure per course"
   ]
  },
  {
   "cell_type": "code",
   "execution_count": 6,
   "id": "8d039618",
   "metadata": {},
   "outputs": [],
   "source": [
    "def make_empty_schedule():\n",
    "    sched = {}\n",
    "    for k in course_keys:\n",
    "        sks = courses[k]['sks']\n",
    "        pr = courses[k]['praktikum']\n",
    "        sessions = []\n",
    "        if pr == 1 and sks >= 1:\n",
    "            lect_count = max(0, sks-1)\n",
    "            for i in range(lect_count):\n",
    "                sessions.append({'type':'lecture','slot':None,'room':None,'lecturer':courses[k]['dosen']})\n",
    "            sessions.append({'type':'practicum','slot':None,'room':None,'lecturer':'Asprak'})\n",
    "        else:\n",
    "            for i in range(sks):\n",
    "                sessions.append({'type':'lecture','slot':None,'room':None,'lecturer':courses[k]['dosen']})\n",
    "        sched[k] = sessions\n",
    "    return sched"
   ]
  },
  {
   "cell_type": "markdown",
   "id": "ae0b9231",
   "metadata": {},
   "source": [
    "## room candidates per course"
   ]
  },
  {
   "cell_type": "code",
   "execution_count": 7,
   "id": "cf32d330",
   "metadata": {},
   "outputs": [],
   "source": [
    "room_candidates_per_course = {}\n",
    "for k in course_keys:\n",
    "    room_candidates_per_course[k] = {\n",
    "        'lecture': list(class_rooms),\n",
    "        'practicum': list(lab_rooms)\n",
    "    }\n",
    "\n",
    "# encode schedule to vector for diversity\n",
    "def encode_schedule_to_vector(schedule):\n",
    "    vec = np.zeros(TOTAL_SESSIONS*2, dtype=float)\n",
    "    for pos,(k,si) in enumerate(session_index_map):\n",
    "        sess = schedule[k][si]\n",
    "        sidx = sess['slot'] if sess['slot'] is not None else 0\n",
    "        vec[2*pos] = sidx\n",
    "        rlist = room_candidates_per_course[k][sess['type']]\n",
    "        room = sess['room'] if sess['room'] is not None else (rlist[0] if rlist else '')\n",
    "        ridx = rlist.index(room) if room in rlist else 0\n",
    "        vec[2*pos+1] = ridx\n",
    "    return vec"
   ]
  },
  {
   "cell_type": "code",
   "execution_count": 8,
   "id": "baf32bef",
   "metadata": {},
   "outputs": [],
   "source": [
    "# >>> NEW: population diversity helper (pairwise mean distance)\n",
    "def population_diversity_from_schedules(schedules):\n",
    "    # schedules: list of schedule dicts\n",
    "    if len(schedules) < 2:\n",
    "        return 0.0\n",
    "    vecs = np.array([encode_schedule_to_vector(s) for s in schedules])\n",
    "    # pairwise distances mean (upper triangle)\n",
    "    dists = np.linalg.norm(vecs[:,None,:] - vecs[None,:,:], axis=2)\n",
    "    return np.mean(dists[np.triu_indices_from(dists, k=1)])"
   ]
  },
  {
   "cell_type": "markdown",
   "id": "21b93ca9",
   "metadata": {},
   "source": [
    "## Fitness evaluation with heavy & light penalties"
   ]
  },
  {
   "cell_type": "code",
   "execution_count": 9,
   "id": "599abd71",
   "metadata": {},
   "outputs": [],
   "source": [
    "W_HEAVY = 100000  # large penalty (makes infeasible solutions extremely costly)\n",
    "W_MOVE = 10       # weight for movement penalty (soft)\n",
    "W_PRIORITY = 5    # weight for priority (soft)\n",
    "\n",
    "\n",
    "def evaluate_schedule_detailed(schedule, w_heavy=W_HEAVY, w_move=W_MOVE, w_priority=W_PRIORITY):\n",
    "    heavy_count = 0\n",
    "    light_count = 0\n",
    "    heavy_detail = defaultdict(int)\n",
    "    light_detail = defaultdict(int)\n",
    "\n",
    "    room_use = defaultdict(list)  # (slot_idx, room) -> list of (k,si)\n",
    "    lecturer_use = defaultdict(list)  # (slot_idx, lecturer) -> list\n",
    "\n",
    "    # check each session\n",
    "    for k,sessions in schedule.items():\n",
    "        for si,sess in enumerate(sessions):\n",
    "            # unassigned\n",
    "            if sess['slot'] is None or sess['room'] is None:\n",
    "                heavy_count += 1\n",
    "                heavy_detail['Unassigned'] += 1\n",
    "                continue\n",
    "            sidx = sess['slot']\n",
    "            # out-of-range\n",
    "            if sidx < 0 or sidx >= len(available_slots):\n",
    "                heavy_count += 1\n",
    "                heavy_detail['Time_OutOfRange'] += 1\n",
    "            room_use[(sidx, sess['room'])].append((k,si))\n",
    "            lec = sess['lecturer']\n",
    "            if lec != 'Asprak' and lec is not None:\n",
    "                lecturer_use[(sidx, lec)].append((k,si))\n",
    "            # room type mismatch\n",
    "            if sess['type']=='lecture' and sess['room'] not in class_rooms:\n",
    "                heavy_count += 1\n",
    "                heavy_detail['Lecture_In_NonClass'] += 1\n",
    "            if sess['type']=='practicum' and sess['room'] not in lab_rooms:\n",
    "                heavy_count += 1\n",
    "                heavy_detail['Pract_In_NonLab'] += 1\n",
    "\n",
    "    # detect conflicts\n",
    "    for kslot,v in room_use.items():\n",
    "        if len(v) > 1:\n",
    "            # multiple sessions same room+slot = heavy per extra\n",
    "            cnt = len(v)-1\n",
    "            heavy_count += cnt\n",
    "            heavy_detail['Room_Conflict'] += cnt\n",
    "    for kslot,v in lecturer_use.items():\n",
    "        if len(v) > 1:\n",
    "            cnt = len(v)-1\n",
    "            heavy_count += cnt\n",
    "            heavy_detail['Lecturer_Conflict'] += cnt\n",
    "\n",
    "    # soft penalties: priority, movement between buildings, compactness\n",
    "    soft_score = 0.0\n",
    "    # priority: sum priority for each lecture session (lower priority value is better)\n",
    "    for k,sessions in schedule.items():\n",
    "        pr = courses[k]['prioritas']\n",
    "        for sess in sessions:\n",
    "            if sess['type']=='lecture':\n",
    "                soft_score += w_priority * pr\n",
    "                light_count += 1\n",
    "                light_detail['Priority_Violation'] += 1\n",
    "\n",
    "    # movement penalty per lecturer for consecutive slots\n",
    "    lec_assigns = defaultdict(list)\n",
    "    for k,sessions in schedule.items():\n",
    "        for sess in sessions:\n",
    "            if sess['lecturer']=='Asprak':\n",
    "                continue\n",
    "            if sess['slot'] is None:\n",
    "                continue\n",
    "            lec_assigns[sess['lecturer']].append((sess['slot'], sess['room']))\n",
    "    for lec, assigns in lec_assigns.items():\n",
    "        assigns_sorted = sorted(assigns, key=lambda x: x[0])\n",
    "        for i in range(len(assigns_sorted)-1):\n",
    "            s1,r1 = assigns_sorted[i]\n",
    "            s2,r2 = assigns_sorted[i+1]\n",
    "            if s2 == s1 + 1:\n",
    "                # building change penalty if class<->lab\n",
    "                in_class1 = r1 in class_rooms\n",
    "                in_class2 = r2 in class_rooms\n",
    "                if in_class1 != in_class2:\n",
    "                    soft_score += w_move * 5\n",
    "                    light_count += 1\n",
    "                    light_detail['Building_Move'] += 1\n",
    "                else:\n",
    "                    f1 = room_floor.get(r1,0)\n",
    "                    f2 = room_floor.get(r2,0)\n",
    "                    soft_score += w_move * abs(f1-f2)\n",
    "                    light_count += 1\n",
    "                    light_detail['Floor_Change'] += 1\n",
    "\n",
    "    total_cost = w_heavy * heavy_count + soft_score\n",
    "    is_feasible = (heavy_count == 0)\n",
    "\n",
    "    result = {\n",
    "        'total_cost': total_cost,\n",
    "        'heavy_count': int(heavy_count),\n",
    "        'light_count': int(light_count),\n",
    "        'heavy_detail': dict(heavy_detail),\n",
    "        'light_detail': dict(light_detail),\n",
    "        'soft_score': float(soft_score),\n",
    "        'is_feasible': bool(is_feasible)\n",
    "    }\n",
    "    return result"
   ]
  },
  {
   "cell_type": "code",
   "execution_count": 10,
   "id": "e8d5c8b3",
   "metadata": {},
   "outputs": [],
   "source": [
    "def fitness_cost(schedule):\n",
    "    return evaluate_schedule_detailed(schedule)"
   ]
  },
  {
   "cell_type": "markdown",
   "id": "d8574361",
   "metadata": {},
   "source": [
    "## Utilities: random init, repair, small local moves"
   ]
  },
  {
   "cell_type": "code",
   "execution_count": 11,
   "id": "232d5446",
   "metadata": {},
   "outputs": [],
   "source": [
    "def random_schedule():\n",
    "    sched = make_empty_schedule()\n",
    "    for k,sessions in sched.items():\n",
    "        for si,sess in enumerate(sessions):\n",
    "            # pick random slot and compatible room\n",
    "            sidx = random.randint(0, len(available_slots)-1)\n",
    "            rlist = room_candidates_per_course[k][sess['type']]\n",
    "            room = random.choice(rlist) if rlist else None\n",
    "            sess['slot'] = sidx\n",
    "            sess['room'] = room\n",
    "    return sched"
   ]
  },
  {
   "cell_type": "code",
   "execution_count": 12,
   "id": "bd4267d0",
   "metadata": {},
   "outputs": [],
   "source": [
    "def repair_schedule(schedule, attempts=200):\n",
    "    sched = copy.deepcopy(schedule)\n",
    "    room_occ = defaultdict(list)\n",
    "    for k,sessions in sched.items():\n",
    "        for si,sess in enumerate(sessions):\n",
    "            if sess['slot'] is None or sess['room'] is None:\n",
    "                continue\n",
    "            room_occ[(sess['slot'], sess['room'])].append((k,si))\n",
    "    # resolve room conflicts greedily\n",
    "    for (slot,room), items in list(room_occ.items()):\n",
    "        if len(items) <= 1:\n",
    "            continue\n",
    "        # keep smallest priority\n",
    "        items_sorted = sorted(items, key=lambda x: courses[x[0]]['prioritas'])\n",
    "        keeper = items_sorted[0]\n",
    "        movers = items_sorted[1:]\n",
    "        for k,si in movers:\n",
    "            moved = False\n",
    "            for _ in range(attempts):\n",
    "                new_slot = random.randint(0, len(available_slots)-1)\n",
    "                if (new_slot, room) not in room_occ or len(room_occ[(new_slot,room)])==0:\n",
    "                    sched[k][si]['slot'] = new_slot\n",
    "                    room_occ[(new_slot,room)].append((k,si))\n",
    "                    moved = True\n",
    "                    break\n",
    "            if not moved:\n",
    "                rlist = room_candidates_per_course[k][sched[k][si]['type']]\n",
    "                for r in rlist:\n",
    "                    if (slot,r) not in room_occ or len(room_occ[(slot,r)])==0:\n",
    "                        sched[k][si]['room'] = r\n",
    "                        room_occ[(slot,r)].append((k,si))\n",
    "                        moved = True\n",
    "                        break\n",
    "    return sched"
   ]
  },
  {
   "cell_type": "code",
   "execution_count": 13,
   "id": "fdcc0c4d",
   "metadata": {},
   "outputs": [],
   "source": [
    "def random_neighbor(schedule):\n",
    "    neigh = copy.deepcopy(schedule)\n",
    "    k = random.choice(course_keys)\n",
    "    si = random.randrange(len(neigh[k]))\n",
    "    # mutate slot or room\n",
    "    if random.random() < 0.6:\n",
    "        neigh[k][si]['slot'] = random.randint(0, len(available_slots)-1)\n",
    "    else:\n",
    "        rlist = room_candidates_per_course[k][neigh[k][si]['type']]\n",
    "        neigh[k][si]['room'] = random.choice(rlist) if rlist else None\n",
    "    return neigh"
   ]
  },
  {
   "cell_type": "markdown",
   "id": "37721e5a",
   "metadata": {},
   "source": [
    "## COA implementation"
   ]
  },
  {
   "cell_type": "code",
   "execution_count": 14,
   "id": "d58567e9",
   "metadata": {},
   "outputs": [],
   "source": [
    "def coati_optimization(\n",
    "    iterations=200,\n",
    "    pop_size=40,\n",
    "    exploration_ratio=0.5,\n",
    "    exploitation_ratio=0.5,\n",
    "    patience=20,\n",
    "):\n",
    "    \"\"\"\n",
    "    Coati Optimization Algorithm (COA) versi diskret untuk penjadwalan kuliah.\n",
    "    Populasi = kumpulan jadwal (schedule dict), bukan array float.\n",
    "    \"\"\"\n",
    "\n",
    "    n_explore = int(pop_size * exploration_ratio)\n",
    "    n_exploit = int(pop_size * exploitation_ratio)\n",
    "\n",
    "    # inisialisasi populasi acak dan evaluasinya\n",
    "    population = [repair_schedule(random_schedule()) for _ in range(pop_size)]\n",
    "    evaluations = [evaluate_schedule_detailed(ind) for ind in population]\n",
    "\n",
    "    best_schedule = copy.deepcopy(population[np.argmin([e['total_cost'] for e in evaluations])])\n",
    "    best_eval = min(evaluations, key=lambda e: e['total_cost'])\n",
    "    best_cost = best_eval['total_cost']\n",
    "\n",
    "    history = {'best_cost': [], 'feasible_best': [], 'diversity': []}\n",
    "    no_improve = 0\n",
    "    start_time = time.time()\n",
    "\n",
    "    for it in trange(iterations, desc=\"COA\"):\n",
    "        # ========================\n",
    "        # PHASE 1: EXPLORATION\n",
    "        # ========================\n",
    "        for i in range(n_explore):\n",
    "            indiv = copy.deepcopy(population[i])\n",
    "            if random.random() < 0.7:\n",
    "                # naik pohon → kombinasi antara best & individu sendiri\n",
    "                for _ in range(random.randint(1,3)):\n",
    "                    indiv = random_neighbor(indiv)\n",
    "            else:\n",
    "                # berburu di bawah pohon → tetangga acak\n",
    "                indiv = random_neighbor(indiv)\n",
    "\n",
    "            indiv = repair_schedule(indiv)\n",
    "            new_eval = evaluate_schedule_detailed(indiv)\n",
    "            if new_eval['total_cost'] < evaluations[i]['total_cost']:\n",
    "                population[i] = indiv\n",
    "                evaluations[i] = new_eval\n",
    "\n",
    "        # ========================\n",
    "        # PHASE 2: EXPLOITATION\n",
    "        # ========================\n",
    "        for i in range(n_exploit):\n",
    "            indiv = copy.deepcopy(population[i])\n",
    "            if random.random() < 0.5:\n",
    "                # lari dari predator → sedikit mutasi\n",
    "                indiv = random_neighbor(indiv)\n",
    "            else:\n",
    "                # meniru best individu (eksploitasi lokal)\n",
    "                child = copy.deepcopy(best_schedule)\n",
    "                mkey = random.choice(course_keys)\n",
    "                if len(child[mkey]) > 0:\n",
    "                    si = random.randrange(len(child[mkey]))\n",
    "                    indiv[mkey][si] = copy.deepcopy(child[mkey][si])\n",
    "            indiv = repair_schedule(indiv)\n",
    "            new_eval = evaluate_schedule_detailed(indiv)\n",
    "            if new_eval['total_cost'] < evaluations[i]['total_cost']:\n",
    "                population[i] = indiv\n",
    "                evaluations[i] = new_eval\n",
    "\n",
    "        # ========================\n",
    "        # UPDATE BEST\n",
    "        # ========================\n",
    "        best_idx = np.argmin([e['total_cost'] for e in evaluations])\n",
    "        curr_best = evaluations[best_idx]\n",
    "        curr_best_cost = curr_best['total_cost']\n",
    "        if curr_best_cost < best_cost:\n",
    "            best_schedule = copy.deepcopy(population[best_idx])\n",
    "            best_eval = curr_best\n",
    "            best_cost = curr_best_cost\n",
    "            no_improve = 0\n",
    "        else:\n",
    "            no_improve += 1\n",
    "\n",
    "        # statistik\n",
    "        diversity = population_diversity_from_schedules(population)\n",
    "        feasible_best = min(\n",
    "            [e['total_cost'] for e in evaluations if e['is_feasible']] or [np.nan]\n",
    "        )\n",
    "        history['best_cost'].append(best_cost)\n",
    "        history['feasible_best'].append(feasible_best)\n",
    "        history['diversity'].append(diversity)\n",
    "\n",
    "        if no_improve >= patience:\n",
    "            print(f\"⏹️ COA early stop at iteration {it} (no improvement)\")\n",
    "            break\n",
    "\n",
    "    total_time = time.time() - start_time\n",
    "    return best_schedule, best_eval, {'history': history, 'runtime_s': total_time}"
   ]
  },
  {
   "cell_type": "markdown",
   "id": "de5fa1b2",
   "metadata": {},
   "source": [
    "## GA implementation (baseline)"
   ]
  },
  {
   "cell_type": "code",
   "execution_count": 15,
   "id": "d46f02bb",
   "metadata": {},
   "outputs": [],
   "source": [
    "def ga_optimize(generations=200, pop_size=60, cx_prob=0.8, mut_prob=0.15, patience=None, tol=1e-6):\n",
    "    pop = [repair_schedule(random_schedule()) for _ in range(pop_size)]\n",
    "    evals = [fitness_cost(ind) for ind in pop]\n",
    "\n",
    "    best_feasible = None; best_feasible_cost = float('inf')\n",
    "    best_overall = None; best_overall_cost = float('inf')\n",
    "    history = {'best_feasible':[], 'best_overall':[], 'avg_cost':[], 'feasible_count':[], 'diversity':[]}\n",
    "    start_time = time.time()\n",
    "\n",
    "    no_improve = 0\n",
    "    last_best = float('inf')\n",
    "\n",
    "    for g in range(generations):\n",
    "        new_pop = []\n",
    "        while len(new_pop) < pop_size:\n",
    "            a,b = random.sample(range(pop_size), 2)\n",
    "            p1 = pop[a] if evals[a]['total_cost'] < evals[b]['total_cost'] else pop[b]\n",
    "            a,b = random.sample(range(pop_size), 2)\n",
    "            p2 = pop[a] if evals[a]['total_cost'] < evals[b]['total_cost'] else pop[b]\n",
    "            if random.random() < cx_prob:\n",
    "                keys = list(course_keys)\n",
    "                cp = random.randint(1, len(keys)-1)\n",
    "                child = {}\n",
    "                for i,k in enumerate(keys):\n",
    "                    child[k] = copy.deepcopy(p1[k]) if i < cp else copy.deepcopy(p2[k])\n",
    "            else:\n",
    "                child = copy.deepcopy(p1)\n",
    "            if random.random() < mut_prob:\n",
    "                m = random.choice(course_keys)\n",
    "                si = random.randrange(len(child[m]))\n",
    "                if random.random() < 0.6:\n",
    "                    child[m][si]['slot'] = random.randint(0,len(available_slots)-1)\n",
    "                else:\n",
    "                    rlist = room_candidates_per_course[m][child[m][si]['type']]\n",
    "                    child[m][si]['room'] = random.choice(rlist) if rlist else None\n",
    "            child = repair_schedule(child)\n",
    "            new_pop.append(child)\n",
    "        pop = new_pop\n",
    "        evals = [fitness_cost(ind) for ind in pop]\n",
    "\n",
    "        # update best trackers\n",
    "        for p,e in zip(pop,evals):\n",
    "            if e['total_cost'] < best_overall_cost:\n",
    "                best_overall = copy.deepcopy(p); best_overall_cost = e['total_cost']\n",
    "        feasible = [(p,e) for p,e in zip(pop,evals) if e['is_feasible']]\n",
    "        if feasible:\n",
    "            p,e = min(feasible, key=lambda pe: pe[1]['total_cost'])\n",
    "            if e['total_cost'] < best_feasible_cost:\n",
    "                best_feasible = copy.deepcopy(p); best_feasible_cost = e['total_cost']\n",
    "\n",
    "        # stats\n",
    "        history['best_feasible'].append(best_feasible_cost if best_feasible is not None else np.nan)\n",
    "        history['best_overall'].append(best_overall_cost)\n",
    "        history['avg_cost'].append(np.mean([e['total_cost'] for e in evals]))\n",
    "        vecs = np.array([encode_schedule_to_vector(p) for p in pop])\n",
    "        mean_vec = vecs.mean(axis=0)\n",
    "        history['diversity'].append(np.mean([np.linalg.norm(v-mean_vec) for v in vecs]))\n",
    "        history['feasible_count'].append(sum(1 for e in evals if e['is_feasible']))\n",
    "\n",
    "        # >>> NEW: early stop based on no improvement on best_overall\n",
    "        if np.isfinite(last_best):\n",
    "            improvement = (last_best - best_overall_cost)\n",
    "            if improvement <= tol:\n",
    "                no_improve += 1\n",
    "            else:\n",
    "                no_improve = 0\n",
    "            last_best = best_overall_cost\n",
    "        else:\n",
    "            last_best = best_overall_cost\n",
    "        if (patience is not None) and (no_improve >= patience):\n",
    "            print(f\"GA early stop at gen {g} (no_improve >= {patience})\")\n",
    "            break\n",
    "\n",
    "    total_time = time.time() - start_time\n",
    "    final = best_feasible if best_feasible is not None else best_overall\n",
    "    final_eval = evaluate_schedule_detailed(final)\n",
    "    return final, final_eval, {'history':history, 'runtime_s':total_time}"
   ]
  },
  {
   "cell_type": "markdown",
   "id": "72688897",
   "metadata": {},
   "source": [
    "## PSO (discrete) implementation"
   ]
  },
  {
   "cell_type": "code",
   "execution_count": 16,
   "id": "4b70451f",
   "metadata": {},
   "outputs": [],
   "source": [
    "def decode_particle(vec, room_lists):\n",
    "    sched = make_empty_schedule()\n",
    "    arr = [int(round(x)) for x in vec]\n",
    "    for i,(k,si) in enumerate(session_index_map):\n",
    "        sidx = max(0, min(len(available_slots)-1, arr[2*i]))\n",
    "        rlist = room_lists[i]\n",
    "        ridx = arr[2*i+1] % len(rlist) if len(rlist)>0 else 0\n",
    "        room = rlist[ridx] if len(rlist)>0 else None\n",
    "        sched[k][si]['slot'] = sidx\n",
    "        sched[k][si]['room'] = room\n",
    "    return sched"
   ]
  },
  {
   "cell_type": "code",
   "execution_count": 17,
   "id": "04397db4",
   "metadata": {},
   "outputs": [],
   "source": [
    "def ps0_optimize(particles=30, iterations=200, w=0.7, c1=1.4, c2=1.4, patience=None, tol=1e-6):\n",
    "    # build room_lists per session\n",
    "    room_lists = []\n",
    "    for (k,si) in session_index_map:\n",
    "        t = make_empty_schedule()[k][si]['type']\n",
    "        room_lists.append(room_candidates_per_course[k][t])\n",
    "\n",
    "    # initialize\n",
    "    pos = [ np.array([ random.randint(0,len(available_slots)-1) if i%2==0 else random.randint(0, max(1,len(room_lists[i//2])-1)) for i in range(2*TOTAL_SESSIONS)], dtype=float) for _ in range(particles) ]\n",
    "    vel = [ np.zeros_like(pos[0]) for _ in range(particles) ]\n",
    "    pbest = [p.copy() for p in pos]\n",
    "    pbest_score = [float('inf')]*particles\n",
    "    gbest = None; gbest_score=float('inf')\n",
    "\n",
    "    start_time = time.time()\n",
    "    # evaluate initial\n",
    "    for p in range(particles):\n",
    "        sched = decode_particle(pos[p], room_lists)\n",
    "        sched = repair_schedule(sched)\n",
    "        ev = evaluate_schedule_detailed(sched)\n",
    "        pbest[p] = pos[p].copy(); pbest_score[p]=ev['total_cost']\n",
    "        if ev['total_cost'] < gbest_score:\n",
    "            gbest = pos[p].copy(); gbest_score=ev['total_cost']\n",
    "\n",
    "    history = {'best_overall':[], 'best_feasible':[], 'diversity':[]}\n",
    "    no_improve = 0\n",
    "    last_best = gbest_score\n",
    "\n",
    "    for it in trange(iterations, desc='PSO'):\n",
    "        for i in range(particles):\n",
    "            r1=random.random(); r2=random.random()\n",
    "            vel[i] = w*vel[i] + c1*r1*(pbest[i]-pos[i]) + c2*r2*(gbest-pos[i])\n",
    "            pos[i] = pos[i] + vel[i]\n",
    "            sched = decode_particle(pos[i], room_lists)\n",
    "            sched = repair_schedule(sched)\n",
    "            ev = evaluate_schedule_detailed(sched)\n",
    "            if ev['total_cost'] < pbest_score[i]:\n",
    "                pbest[i] = pos[i].copy(); pbest_score[i] = ev['total_cost']\n",
    "                if ev['total_cost'] < gbest_score:\n",
    "                    gbest = pos[i].copy(); gbest_score = ev['total_cost']\n",
    "        # record diversity\n",
    "        pop_scheds = [repair_schedule(decode_particle(p, room_lists)) for p in pos]\n",
    "        D = population_diversity_from_schedules(pop_scheds)\n",
    "        history['diversity'].append(D)\n",
    "        history['best_overall'].append(gbest_score)\n",
    "        history['best_feasible'].append(np.nan)  # for simplicity\n",
    "\n",
    "        # early stop check (>>> NEW)\n",
    "        if np.isfinite(last_best):\n",
    "            improvement = (last_best - gbest_score)\n",
    "            if improvement <= tol:\n",
    "                no_improve += 1\n",
    "            else:\n",
    "                no_improve = 0\n",
    "            last_best = gbest_score\n",
    "        if (patience is not None) and (no_improve >= patience):\n",
    "            print(f\"PSO early stop at iter {it} (no_improve >= {patience})\")\n",
    "            break\n",
    "\n",
    "    total_time = time.time() - start_time\n",
    "    final_sched = repair_schedule(decode_particle(gbest, room_lists))\n",
    "    final_eval = evaluate_schedule_detailed(final_sched)\n",
    "    return final_sched, final_eval, {'history':history, 'runtime_s':total_time}\n"
   ]
  },
  {
   "cell_type": "markdown",
   "id": "297b22e5",
   "metadata": {},
   "source": [
    "## ACO (basic) implementation"
   ]
  },
  {
   "cell_type": "code",
   "execution_count": 18,
   "id": "12b3a217",
   "metadata": {},
   "outputs": [],
   "source": [
    "def aco_optimize(ants=30, iterations=200, alpha=1, beta=2, rho=0.1, patience=None, tol=1e-6):\n",
    "    n_slots = len(available_slots)\n",
    "    pheromone = np.ones((TOTAL_SESSIONS, n_slots)) * 0.1\n",
    "    start_time = time.time()\n",
    "    best_sched = None\n",
    "    best_eval = None\n",
    "    best_cost = float('inf')\n",
    "    history = {'best_overall':[], 'diversity':[]}\n",
    "\n",
    "    no_improve = 0\n",
    "    last_best = float('inf')\n",
    "\n",
    "    for it in trange(iterations, desc='ACO'):\n",
    "        all_scheds = []\n",
    "        all_evals = []\n",
    "\n",
    "        for a in range(ants):\n",
    "            sched = make_empty_schedule()\n",
    "            for idx, (k, si) in enumerate(session_index_map):\n",
    "                ps = pheromone[idx] ** alpha\n",
    "                if ps.sum() == 0:\n",
    "                    probs = np.ones(len(ps)) / len(ps)\n",
    "                else:\n",
    "                    probs = ps / ps.sum()\n",
    "                sidx = np.random.choice(range(n_slots), p=probs)\n",
    "                sess_type = sched[k][si]['type']\n",
    "                rlist = room_candidates_per_course[k][sess_type]\n",
    "                room = random.choice(rlist) if rlist else None\n",
    "                sched[k][si]['slot'] = sidx\n",
    "                sched[k][si]['room'] = room\n",
    "            sched = repair_schedule(sched)\n",
    "            ev = evaluate_schedule_detailed(sched)\n",
    "            all_scheds.append(sched)\n",
    "            all_evals.append(ev)\n",
    "\n",
    "            if ev['total_cost'] < best_cost:\n",
    "                best_cost = ev['total_cost']\n",
    "                best_sched = copy.deepcopy(sched)\n",
    "                best_eval = ev\n",
    "\n",
    "        # Update pheromone\n",
    "        pheromone = (1 - rho) * pheromone\n",
    "        for s, e in zip(all_scheds, all_evals):\n",
    "            contrib = 1.0 / (1.0 + e['total_cost'])\n",
    "            for idx, (k, si) in enumerate(session_index_map):\n",
    "                slot = s[k][si]['slot']\n",
    "                pheromone[idx, slot] += contrib\n",
    "\n",
    "        # diversity metric\n",
    "        D = population_diversity_from_schedules(all_scheds)\n",
    "        history['diversity'].append(D)\n",
    "        history['best_overall'].append(best_cost)\n",
    "\n",
    "        # early stop (>>> NEW)\n",
    "        if np.isfinite(last_best):\n",
    "            improvement = (last_best - best_cost)\n",
    "            if improvement <= tol:\n",
    "                no_improve += 1\n",
    "            else:\n",
    "                no_improve = 0\n",
    "            last_best = best_cost\n",
    "        else:\n",
    "            last_best = best_cost\n",
    "        if (patience is not None) and (no_improve >= patience):\n",
    "            print(f\"ACO early stop at iter {it} (no_improve >= {patience})\")\n",
    "            break\n",
    "\n",
    "    total_time = time.time() - start_time\n",
    "    final = best_sched\n",
    "    final_eval = evaluate_schedule_detailed(final)\n",
    "    return final, final_eval, {'history':history, 'runtime_s':total_time}"
   ]
  },
  {
   "cell_type": "markdown",
   "id": "c9d9cad3",
   "metadata": {},
   "source": [
    "## SA (Simulated Annealing) implementation"
   ]
  },
  {
   "cell_type": "code",
   "execution_count": 19,
   "id": "3cd21d3f",
   "metadata": {},
   "outputs": [],
   "source": [
    "def sa_optimize(iterations=3000, T0=100.0, cooling=0.95, patience=None, tol=1e-6):\n",
    "    current = repair_schedule(random_schedule())\n",
    "    current_eval = evaluate_schedule_detailed(current)\n",
    "    best = copy.deepcopy(current)\n",
    "    best_eval = current_eval\n",
    "    history = {'best_cost':[], 'temperature':[]}\n",
    "    start_time = time.time()\n",
    "    T = T0\n",
    "\n",
    "    no_improve = 0\n",
    "    last_best = best_eval['total_cost']\n",
    "\n",
    "    for it in trange(iterations, desc='SA'):\n",
    "        neighbor = random_neighbor(current)\n",
    "        neighbor = repair_schedule(neighbor)\n",
    "        ev_new = evaluate_schedule_detailed(neighbor)\n",
    "        delta = ev_new['total_cost'] - current_eval['total_cost']\n",
    "        if delta < 0 or random.random() < math.exp(-delta / (T + 1e-9)):\n",
    "            current = neighbor\n",
    "            current_eval = ev_new\n",
    "            if ev_new['total_cost'] < best_eval['total_cost']:\n",
    "                best = copy.deepcopy(neighbor)\n",
    "                best_eval = ev_new\n",
    "        T *= cooling\n",
    "        history['best_cost'].append(best_eval['total_cost'])\n",
    "        history['temperature'].append(T)\n",
    "\n",
    "        # early stop\n",
    "        if np.isfinite(last_best):\n",
    "            improvement = (last_best - best_eval['total_cost'])\n",
    "            if improvement <= tol:\n",
    "                no_improve += 1\n",
    "            else:\n",
    "                no_improve = 0\n",
    "            last_best = best_eval['total_cost']\n",
    "        if (patience is not None) and (no_improve >= patience):\n",
    "            print(f\"SA early stop at iter {it} (no_improve >= {patience})\")\n",
    "            break\n",
    "\n",
    "    total_time = time.time() - start_time\n",
    "    return best, best_eval, {'history':history, 'runtime_s':total_time}"
   ]
  },
  {
   "cell_type": "markdown",
   "id": "f89bcb39",
   "metadata": {},
   "source": [
    "## Run ALL"
   ]
  },
  {
   "cell_type": "code",
   "execution_count": 20,
   "id": "00514d01",
   "metadata": {},
   "outputs": [],
   "source": [
    "def run_and_compare_algorithms(num_runs=3,\n",
    "                               num_iterations=100,\n",
    "                               population_size=50,\n",
    "                               patience=20):\n",
    "    \"\"\"\n",
    "    >>> NEW:\n",
    "    Runs multiple algorithms multiple times and collects summary stats.\n",
    "    Default parameters set per user's confirmation:\n",
    "      - num_iterations = 100\n",
    "      - population_size = 50\n",
    "      - num_runs = 3 (averaging)\n",
    "      - GA: mutation_rate=0.1, crossover_rate=0.8\n",
    "      - PSO: w=0.7, c1=1.4, c2=1.4\n",
    "      - ACO: alpha=1, beta=2, rho=0.5\n",
    "      - SA: initial_temp=100, cooling_rate=0.95\n",
    "    \"\"\"\n",
    "    algorithms = {\n",
    "        'COA': lambda: coati_optimization(pop_size=population_size, iterations=num_iterations, patience=patience),\n",
    "        'GA': lambda: ga_optimize(generations=num_iterations, pop_size=population_size, cx_prob=0.8, mut_prob=0.1, patience=patience),\n",
    "        'PSO': lambda: ps0_optimize(particles=population_size//2 if population_size//2>0 else 10, iterations=num_iterations, w=0.7, c1=1.4, c2=1.4, patience=patience),\n",
    "        'ACO': lambda: aco_optimize(ants=population_size//2 if population_size//2>0 else 10, iterations=num_iterations, alpha=1, beta=2, rho=0.5, patience=patience),\n",
    "        'SA': lambda: sa_optimize(iterations=max(200,num_iterations*5), T0=100.0, cooling=0.95, patience=patience)\n",
    "    }\n",
    "\n",
    "    summary_records = []\n",
    "    detailed_results = {}\n",
    "\n",
    "    for name, fn in algorithms.items():\n",
    "        print(f\"\\n=== Running algorithm: {name} (runs={num_runs}) ===\")\n",
    "        run_costs = []\n",
    "        run_feasible_counts = []\n",
    "        run_heavy = []\n",
    "        run_light = []\n",
    "        run_runtimes = []\n",
    "        run_histories = []\n",
    "        for r in range(num_runs):\n",
    "            print(f\" Run {r+1}/{num_runs} ...\", end='')\n",
    "            start = time.time()\n",
    "            sched, ev, meta = fn()\n",
    "            dur = meta.get('runtime_s', time.time()-start)\n",
    "            run_costs.append(ev['total_cost'])\n",
    "            run_feasible_counts.append(1 if ev['is_feasible'] else 0)\n",
    "            run_heavy.append(ev['heavy_count'])\n",
    "            run_light.append(ev['light_count'])\n",
    "            run_runtimes.append(dur)\n",
    "            run_histories.append(meta.get('history'))\n",
    "            print(f\" done (cost={ev['total_cost']}, feasible={ev['is_feasible']}, time={dur:.2f}s)\")\n",
    "            # store last schedule for potential saving/inspection\n",
    "            detailed_results.setdefault(name, []).append({'schedule':sched, 'eval':ev, 'meta':meta})\n",
    "\n",
    "        # aggregate metrics\n",
    "        summary_records.append({\n",
    "            'algo': name,\n",
    "            'runs': num_runs,\n",
    "            'best_cost_mean': float(np.mean(run_costs)),\n",
    "            'best_cost_std': float(np.std(run_costs)),\n",
    "            'feasible_rate': float(np.mean(run_feasible_counts)),\n",
    "            'heavy_mean': float(np.mean(run_heavy)),\n",
    "            'light_mean': float(np.mean(run_light)),\n",
    "            'runtime_mean_s': float(np.mean(run_runtimes))\n",
    "        })\n",
    "        # keep representative history (first run) for plotting\n",
    "        detailed_results[name].append({'representative_history': run_histories[0]})\n",
    "\n",
    "    summary_df = pd.DataFrame(summary_records).sort_values(['feasible_rate','best_cost_mean'], ascending=[False, True])\n",
    "    return summary_df, detailed_results"
   ]
  },
  {
   "cell_type": "markdown",
   "id": "71364ea2",
   "metadata": {},
   "source": [
    "## Run experiments"
   ]
  },
  {
   "cell_type": "code",
   "execution_count": 21,
   "id": "4e29bbda",
   "metadata": {},
   "outputs": [
    {
     "name": "stdout",
     "output_type": "stream",
     "text": [
      "\n",
      "=== Running algorithm: COA (runs=3) ===\n",
      " Run 1/3 ..."
     ]
    },
    {
     "name": "stderr",
     "output_type": "stream",
     "text": [
      "COA: 100%|██████████| 100/100 [09:09<00:00,  5.49s/it]\n"
     ]
    },
    {
     "name": "stdout",
     "output_type": "stream",
     "text": [
      " done (cost=97225365.0, feasible=False, time=549.36s)\n",
      " Run 2/3 ..."
     ]
    },
    {
     "name": "stderr",
     "output_type": "stream",
     "text": [
      "COA: 100%|██████████| 100/100 [09:29<00:00,  5.69s/it]\n"
     ]
    },
    {
     "name": "stdout",
     "output_type": "stream",
     "text": [
      " done (cost=97524915.0, feasible=False, time=569.20s)\n",
      " Run 3/3 ..."
     ]
    },
    {
     "name": "stderr",
     "output_type": "stream",
     "text": [
      "COA: 100%|██████████| 100/100 [09:34<00:00,  5.75s/it]\n"
     ]
    },
    {
     "name": "stdout",
     "output_type": "stream",
     "text": [
      " done (cost=96525505.0, feasible=False, time=574.73s)\n",
      "\n",
      "=== Running algorithm: GA (runs=3) ===\n",
      " Run 1/3 ... done (cost=91225065.0, feasible=False, time=483.88s)\n",
      " Run 2/3 ... done (cost=93326275.0, feasible=False, time=441.49s)\n",
      " Run 3/3 ... done (cost=91126865.0, feasible=False, time=420.67s)\n",
      "\n",
      "=== Running algorithm: PSO (runs=3) ===\n",
      " Run 1/3 ..."
     ]
    },
    {
     "name": "stderr",
     "output_type": "stream",
     "text": [
      "PSO:  65%|██████▌   | 65/100 [06:25<03:27,  5.93s/it]"
     ]
    },
    {
     "name": "stdout",
     "output_type": "stream",
     "text": [
      "PSO early stop at iter 65 (no_improve >= 20)\n",
      " done (cost=99624655.0, feasible=False, time=387.76s)\n",
      " Run 2/3 ..."
     ]
    },
    {
     "name": "stderr",
     "output_type": "stream",
     "text": [
      "\n",
      "PSO:  46%|████▌     | 46/100 [04:47<05:37,  6.25s/it]"
     ]
    },
    {
     "name": "stdout",
     "output_type": "stream",
     "text": [
      "PSO early stop at iter 46 (no_improve >= 20)\n",
      " done (cost=101126485.0, feasible=False, time=289.92s)\n",
      " Run 3/3 ..."
     ]
    },
    {
     "name": "stderr",
     "output_type": "stream",
     "text": [
      "\n",
      "PSO:  65%|██████▌   | 65/100 [06:37<03:34,  6.12s/it]\n"
     ]
    },
    {
     "name": "stdout",
     "output_type": "stream",
     "text": [
      "PSO early stop at iter 65 (no_improve >= 20)\n",
      " done (cost=100726445.0, feasible=False, time=400.51s)\n",
      "\n",
      "=== Running algorithm: ACO (runs=3) ===\n",
      " Run 1/3 ..."
     ]
    },
    {
     "name": "stderr",
     "output_type": "stream",
     "text": [
      "ACO:  38%|███▊      | 38/100 [02:53<04:42,  4.55s/it]\n"
     ]
    },
    {
     "name": "stdout",
     "output_type": "stream",
     "text": [
      "ACO early stop at iter 38 (no_improve >= 20)\n",
      " done (cost=98025455.0, feasible=False, time=173.02s)\n",
      " Run 2/3 ..."
     ]
    },
    {
     "name": "stderr",
     "output_type": "stream",
     "text": [
      "ACO:  24%|██▍       | 24/100 [01:50<05:51,  4.62s/it]\n"
     ]
    },
    {
     "name": "stdout",
     "output_type": "stream",
     "text": [
      "ACO early stop at iter 24 (no_improve >= 20)\n",
      " done (cost=98325685.0, feasible=False, time=110.92s)\n",
      " Run 3/3 ..."
     ]
    },
    {
     "name": "stderr",
     "output_type": "stream",
     "text": [
      "ACO:  38%|███▊      | 38/100 [02:54<04:44,  4.59s/it]\n"
     ]
    },
    {
     "name": "stdout",
     "output_type": "stream",
     "text": [
      "ACO early stop at iter 38 (no_improve >= 20)\n",
      " done (cost=98025965.0, feasible=False, time=174.38s)\n",
      "\n",
      "=== Running algorithm: SA (runs=3) ===\n",
      " Run 1/3 ..."
     ]
    },
    {
     "name": "stderr",
     "output_type": "stream",
     "text": [
      "SA:   7%|▋         | 33/500 [00:02<00:39, 11.79it/s]\n"
     ]
    },
    {
     "name": "stdout",
     "output_type": "stream",
     "text": [
      "SA early stop at iter 33 (no_improve >= 20)\n",
      " done (cost=101725425.0, feasible=False, time=2.80s)\n",
      " Run 2/3 ..."
     ]
    },
    {
     "name": "stderr",
     "output_type": "stream",
     "text": [
      "SA:  27%|██▋       | 133/500 [00:11<00:30, 11.91it/s]\n"
     ]
    },
    {
     "name": "stdout",
     "output_type": "stream",
     "text": [
      "SA early stop at iter 133 (no_improve >= 20)\n",
      " done (cost=101423705.0, feasible=False, time=11.17s)\n",
      " Run 3/3 ..."
     ]
    },
    {
     "name": "stderr",
     "output_type": "stream",
     "text": [
      "SA: 100%|██████████| 500/500 [00:41<00:00, 12.05it/s]\n"
     ]
    },
    {
     "name": "stdout",
     "output_type": "stream",
     "text": [
      " done (cost=96524225.0, feasible=False, time=41.48s)\n",
      "\n",
      "===== SUMMARY =====\n",
      "algo  runs  best_cost_mean  best_cost_std  feasible_rate  heavy_mean  light_mean  runtime_mean_s\n",
      "  GA     3    9.189274e+07   1.014458e+06            0.0  918.666667 3106.666667      448.677179\n",
      " COA     3    9.709193e+07   4.187753e+05            0.0  970.666667 3068.666667      564.427741\n",
      " ACO     3    9.812570e+07   1.414097e+05            0.0  981.000000 3043.333333      152.775178\n",
      "  SA     3    9.989112e+07   2.383937e+06            0.0  998.666667 3017.666667       18.484464\n",
      " PSO     3    1.004925e+08   6.350386e+05            0.0 1004.666667 3029.666667      359.398062\n"
     ]
    }
   ],
   "source": [
    "# >>> NEW: default settings as agreed\n",
    "NUM_RUNS = 3          # number of independent runs per algorithm (averaging)\n",
    "NUM_ITERATIONS = 100  # core iterations for population-based algos\n",
    "POP_SIZE = 50         # population size (used by COA/GA etc.)\n",
    "PATIENCE = 20         # early stop if no improvement\n",
    "\n",
    "summary_df, detailed_results = run_and_compare_algorithms(num_runs=NUM_RUNS,\n",
    "                                                          num_iterations=NUM_ITERATIONS,\n",
    "                                                          population_size=POP_SIZE,\n",
    "                                                          patience=PATIENCE)\n",
    "\n",
    "print(\"\\n===== SUMMARY =====\")\n",
    "print(summary_df.to_string(index=False))"
   ]
  },
  {
   "cell_type": "markdown",
   "id": "f19003ad",
   "metadata": {},
   "source": [
    "## Comparative evaluation & visualizations"
   ]
  },
  {
   "cell_type": "code",
   "execution_count": 22,
   "id": "a560ba3c",
   "metadata": {},
   "outputs": [
    {
     "data": {
      "image/png": "[encoded data removed]",
      "text/plain": [
       "<Figure size 1000x400 with 2 Axes>"
      ]
     },
     "metadata": {},
     "output_type": "display_data"
    }
   ],
   "source": [
    "# === Plot runtime dan feasible rate ===\n",
    "plt.figure(figsize=(10,4))\n",
    "plt.subplot(1,2,1)\n",
    "plt.bar(summary_df['algo'], summary_df['runtime_mean_s'])\n",
    "plt.title('Avg runtime (s)')\n",
    "plt.ylabel('seconds')\n",
    "\n",
    "plt.subplot(1,2,2)\n",
    "plt.bar(summary_df['algo'], summary_df['feasible_rate'])\n",
    "plt.title('Feasible rate (fraction of runs)')\n",
    "plt.ylabel('feasible rate')\n",
    "plt.ylim(0,1)\n",
    "plt.show()"
   ]
  },
  {
   "cell_type": "code",
   "execution_count": 23,
   "id": "1bcbc310",
   "metadata": {},
   "outputs": [
    {
     "data": {
      "image/png": "[encoded data removed]",
      "text/plain": [
       "<Figure size 800x400 with 1 Axes>"
      ]
     },
     "metadata": {},
     "output_type": "display_data"
    }
   ],
   "source": [
    "# === Plot penalti rata-rata ===\n",
    "plt.figure(figsize=(8,4))\n",
    "x = np.arange(len(summary_df))\n",
    "plt.bar(x-0.2, summary_df['heavy_mean'], width=0.4, label='heavy_mean')\n",
    "plt.bar(x+0.2, summary_df['light_mean'], width=0.4, label='light_mean')\n",
    "plt.xticks(x, summary_df['algo'])\n",
    "plt.ylabel('avg count')\n",
    "plt.title('Average heavy & light penalties per algorithm')\n",
    "plt.legend()\n",
    "plt.show()"
   ]
  },
  {
   "cell_type": "code",
   "execution_count": 24,
   "id": "bdaa0a1b",
   "metadata": {},
   "outputs": [
    {
     "data": {
      "image/png": "[encoded data removed]",
      "text/plain": [
       "<Figure size 1000x300 with 1 Axes>"
      ]
     },
     "metadata": {},
     "output_type": "display_data"
    },
    {
     "data": {
      "image/png": "[encoded data removed]",
      "text/plain": [
       "<Figure size 1000x300 with 1 Axes>"
      ]
     },
     "metadata": {},
     "output_type": "display_data"
    },
    {
     "data": {
      "image/png": "[encoded data removed]",
      "text/plain": [
       "<Figure size 1000x300 with 1 Axes>"
      ]
     },
     "metadata": {},
     "output_type": "display_data"
    },
    {
     "data": {
      "image/png": "[encoded data removed]",
      "text/plain": [
       "<Figure size 1000x300 with 1 Axes>"
      ]
     },
     "metadata": {},
     "output_type": "display_data"
    },
    {
     "data": {
      "image/png": "[encoded data removed]",
      "text/plain": [
       "<Figure size 1000x300 with 1 Axes>"
      ]
     },
     "metadata": {},
     "output_type": "display_data"
    }
   ],
   "source": [
    "# === Plot representative convergence curve ===\n",
    "for name, runs in detailed_results.items():\n",
    "    rep = None\n",
    "    for item in reversed(runs):\n",
    "        if 'representative_history' in item:\n",
    "            rep = item['representative_history']\n",
    "            break\n",
    "    if rep is None:\n",
    "        continue\n",
    "    hist = rep\n",
    "    plt.figure(figsize=(10,3))\n",
    "    if isinstance(hist, dict):\n",
    "        if 'best_overall' in hist:\n",
    "            plt.plot(hist['best_overall'], label=f'{name} best_overall')\n",
    "        elif 'best_cost' in hist:\n",
    "            plt.plot(hist['best_cost'], label=f'{name} best_cost')\n",
    "        if 'diversity' in hist:\n",
    "            plt.plot(hist['diversity'], label=f'{name} diversity')\n",
    "    plt.title(f'Convergence / Diversity (representative) - {name}')\n",
    "    plt.legend()\n",
    "    plt.grid(True)\n",
    "    plt.show()"
   ]
  },
  {
   "cell_type": "markdown",
   "id": "8f82a928",
   "metadata": {},
   "source": [
    "## Save summary and representative schedule CSVs"
   ]
  },
  {
   "cell_type": "code",
   "execution_count": 25,
   "id": "ef879cf2",
   "metadata": {},
   "outputs": [
    {
     "name": "stdout",
     "output_type": "stream",
     "text": [
      "Saved comparison_summary.csv\n",
      "Saved representative_schedule_COA.csv eval heavy: {'Room_Conflict': 191, 'Lecturer_Conflict': 781} light: {'Priority_Violation': 2249, 'Floor_Change': 825}\n",
      "Saved representative_schedule_GA.csv eval heavy: {'Room_Conflict': 191, 'Lecturer_Conflict': 721} light: {'Priority_Violation': 2249, 'Floor_Change': 864}\n",
      "Saved representative_schedule_PSO.csv eval heavy: {'Room_Conflict': 191, 'Lecturer_Conflict': 805} light: {'Priority_Violation': 2249, 'Floor_Change': 782}\n",
      "Saved representative_schedule_ACO.csv eval heavy: {'Room_Conflict': 191, 'Lecturer_Conflict': 789} light: {'Priority_Violation': 2249, 'Floor_Change': 795}\n",
      "Saved representative_schedule_SA.csv eval heavy: {'Room_Conflict': 191, 'Lecturer_Conflict': 826} light: {'Priority_Violation': 2249, 'Floor_Change': 763}\n"
     ]
    }
   ],
   "source": [
    "summary_df.to_csv('comparison_summary.csv', index=False)\n",
    "print('Saved comparison_summary.csv')\n",
    "\n",
    "# Save representative schedules (first run) per algorithm\n",
    "for name, runs in detailed_results.items():\n",
    "    if len(runs) == 0:\n",
    "        continue\n",
    "    rep_run = runs[0]  # first run\n",
    "    sched = rep_run['schedule']\n",
    "    ev = rep_run['eval']\n",
    "    rows = []\n",
    "    for k,sessions in sched.items():\n",
    "        for sess in sessions:\n",
    "            slot = sess['slot']\n",
    "            day,hour = available_slots[slot] if slot is not None and 0<=slot<len(available_slots) else (None,None)\n",
    "            rows.append({\n",
    "                'algo': name,\n",
    "                'kode_MK': courses[k]['kode'],\n",
    "                'nama': courses[k]['nama'],\n",
    "                'type': sess['type'],\n",
    "                'day': day,\n",
    "                'hour': hour,\n",
    "                'room': sess['room'],\n",
    "                'lecturer': sess['lecturer']\n",
    "            })\n",
    "    df_out = pd.DataFrame(rows)\n",
    "    fname = f'representative_schedule_{name}.csv'\n",
    "    df_out.to_csv(fname, index=False)\n",
    "    print('Saved', fname, 'eval heavy:', ev['heavy_detail'], 'light:', ev['light_detail'])"
   ]
  }
 ],
 "metadata": {
  "kernelspec": {
   "display_name": "skripsi",
   "language": "python",
   "name": "python3"
  },
  "language_info": {
   "codemirror_mode": {
    "name": "ipython",
    "version": 3
   },
   "file_extension": ".py",
   "mimetype": "text/x-python",
   "name": "python",
   "nbconvert_exporter": "python",
   "pygments_lexer": "ipython3",
   "version": "3.10.18"
  }
 },
 "nbformat": 4,
 "nbformat_minor": 5
}
